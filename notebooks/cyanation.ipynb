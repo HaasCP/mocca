{
 "cells": [
  {
   "cell_type": "markdown",
   "id": "c70bf775-82ac-4c3c-a1b5-23af5ec8fb3f",
   "metadata": {},
   "source": [
    "CPH 02/04/2022"
   ]
  },
  {
   "cell_type": "markdown",
   "id": "6a58324c-8e7a-44ca-9f39-dc6563ce81b0",
   "metadata": {
    "tags": []
   },
   "source": [
    "# MOCCA data analysis on cyanation wellplate screening\n",
    "\n",
    "MOCCA is a tool for the analysis of *High-Performance Liquid Chromatography–Diode Array Detection* (HPLC–DAD) datasets which are recorded in the context of reaction (process) controls. It only uses HPLC–DAD raw data and some basic user input for the data analysis."
   ]
  },
  {
   "cell_type": "markdown",
   "id": "c9d2a04c-52f8-4e3f-bd9e-8a80fcee0302",
   "metadata": {},
   "source": [
    "## Reaction and case study background\n",
    "\n",
    "This case study investigates a screening of discrete reaction parameters on a well plate. The chosen reaction is a palladium-catalyzed cyanation of 2-chlorotoluene yielding o-tolunitrile. We investigate the reaction with seven different cyanide precursors (protected cyanohydrines), four different bases and three different ligands."
   ]
  },
  {
   "cell_type": "markdown",
   "id": "14bcad8c-907f-45e8-b0a6-8bb1b4f61865",
   "metadata": {},
   "source": [
    "## Imports"
   ]
  },
  {
   "cell_type": "code",
   "execution_count": 1,
   "id": "ff1b1321-02b7-4ffa-9bfd-76556f076ad0",
   "metadata": {},
   "outputs": [],
   "source": [
    "# folders handling\n",
    "import os\n",
    "from glob import glob\n",
    "\n",
    "# user interaction\n",
    "from mocca.user_interaction.campaign import HplcDadCampaign\n",
    "from mocca.user_interaction.user_objects import Gradient\n",
    "from mocca.user_interaction.user_objects import Compound\n",
    "from mocca.user_interaction.user_objects import InternalStandard\n",
    "from mocca.user_interaction.user_objects import HplcInput\n",
    "from mocca.user_interaction.settings import Settings\n",
    "\n",
    "# reporting\n",
    "from mocca.report.hplc_input import report_hplc_input\n",
    "from mocca.report.gradient import report_gradients\n",
    "from mocca.report.chroms import report_chroms\n",
    "from mocca.report.results import report_runs\n",
    "from mocca.report.parafac import report_parafac\n",
    "from mocca.report.peaks import report_peaks\n",
    "from mocca.report.quali_comps import report_quali_comps\n",
    "from mocca.report.quant_comps import report_quant_comps\n",
    "\n",
    "# customized data analysis\n",
    "import datetime\n",
    "import time\n",
    "\n",
    "%load_ext autoreload\n",
    "%autoreload 2"
   ]
  },
  {
   "cell_type": "markdown",
   "id": "66d85391-6b55-4309-9bfa-ccb97e84b8f9",
   "metadata": {},
   "source": [
    "## Cyanation data folder handling\n",
    "\n",
    "The data corresponding to this notebook can be found in mocca -> notebooks -> cyanation_data. The data was recorded on an Shimadzu system with an automatic export of the raw data to a .txt file."
   ]
  },
  {
   "cell_type": "code",
   "execution_count": 2,
   "id": "aa9e56ae-7937-44cb-939e-ebec3bf4ccc7",
   "metadata": {},
   "outputs": [],
   "source": [
    "# get path of this notebook\n",
    "ipynb_path = os.path.dirname(os.path.realpath(\"__file__\"))\n",
    "\n",
    "# add the path to the test data folder\n",
    "cyan_data_path = os.path.join(ipynb_path, \"cyanation_data\")\n",
    "\n",
    "# find all folders containing Agilent HPLC data (.D file extension)\n",
    "folders = glob(cyan_data_path + '/*' + '.txt') \n",
    "folders = sorted(folders, key=lambda x: int(x.split('_')[-1][:-4]))"
   ]
  },
  {
   "cell_type": "code",
   "execution_count": 3,
   "id": "36a5d434-f4d2-46bb-acd1-4a7d484dbd8d",
   "metadata": {
    "tags": []
   },
   "outputs": [
    {
     "name": "stdout",
     "output_type": "stream",
     "text": [
      "09072021_sample_4.txt\n",
      "09072021_sample_5.txt\n",
      "09072021_sample_6.txt\n",
      "09072021_sample_7.txt\n",
      "09072021_sample_8.txt\n",
      "09072021_sample_9.txt\n",
      "09072021_sample_10.txt\n",
      "09072021_sample_11.txt\n",
      "09072021_sample_12.txt\n",
      "09072021_sample_13.txt\n",
      "09072021_sample_14.txt\n",
      "09072021_sample_15.txt\n",
      "09072021_sample_16.txt\n",
      "09072021_sample_17.txt\n",
      "09072021_sample_18.txt\n",
      "09072021_sample_19.txt\n",
      "09072021_sample_20.txt\n",
      "09072021_sample_21.txt\n",
      "09072021_sample_22.txt\n",
      "09072021_sample_23.txt\n",
      "09072021_sample_24.txt\n",
      "09072021_sample_25.txt\n",
      "09072021_sample_26.txt\n",
      "09072021_sample_27.txt\n",
      "09072021_sample_28.txt\n",
      "09072021_sample_29.txt\n",
      "09072021_sample_30.txt\n",
      "09072021_sample_31.txt\n",
      "09072021_sample_32.txt\n",
      "09072021_sample_33.txt\n",
      "09072021_sample_34.txt\n",
      "09072021_sample_35.txt\n",
      "09072021_sample_36.txt\n",
      "09072021_sample_37.txt\n",
      "09072021_sample_38.txt\n",
      "09072021_sample_39.txt\n",
      "09072021_sample_40.txt\n",
      "09072021_sample_41.txt\n",
      "09072021_sample_42.txt\n",
      "09072021_sample_43.txt\n",
      "09072021_sample_44.txt\n",
      "09072021_sample_45.txt\n",
      "09072021_sample_46.txt\n",
      "09072021_sample_47.txt\n",
      "09072021_sample_48.txt\n",
      "09072021_sample_49.txt\n",
      "09072021_sample_50.txt\n",
      "09072021_sample_51.txt\n",
      "09072021_sample_52.txt\n",
      "09072021_sample_53.txt\n",
      "09072021_sample_54.txt\n",
      "09072021_sample_55.txt\n",
      "09072021_sample_56.txt\n",
      "09072021_sample_57.txt\n",
      "09072021_sample_58.txt\n",
      "09072021_sample_59.txt\n",
      "09072021_sample_60.txt\n",
      "09072021_sample_61.txt\n",
      "09072021_sample_62.txt\n",
      "09072021_sample_63.txt\n",
      "09072021_sample_64.txt\n",
      "09072021_sample_65.txt\n",
      "09072021_sample_66.txt\n",
      "09072021_sample_67.txt\n",
      "09072021_sample_68.txt\n",
      "09072021_sample_69.txt\n",
      "09072021_sample_70.txt\n",
      "09072021_sample_71.txt\n",
      "09072021_sample_72.txt\n",
      "09072021_sample_73.txt\n",
      "09072021_sample_74.txt\n",
      "09072021_sample_75.txt\n",
      "09072021_sample_76.txt\n",
      "09072021_sample_77.txt\n",
      "09072021_sample_78.txt\n",
      "09072021_sample_79.txt\n",
      "09072021_sample_80.txt\n",
      "09072021_sample_81.txt\n",
      "09072021_sample_82.txt\n",
      "09072021_sample_83.txt\n",
      "09072021_sample_84.txt\n",
      "09072021_sample_85.txt\n",
      "09072021_sample_86.txt\n",
      "09072021_sample_87.txt\n",
      "09072021_educt_88.txt\n",
      "09072021_educt_89.txt\n",
      "09072021_product_92.txt\n",
      "09072021_product_93.txt\n",
      "09072021_istd_96.txt\n",
      "09072021_gradient_97.txt\n",
      "09072021_cnsource_a_98.txt\n",
      "09072021_cnsource_d_99.txt\n"
     ]
    }
   ],
   "source": [
    "for folder in folders:\n",
    "    print(os.path.basename(folder))"
   ]
  },
  {
   "cell_type": "markdown",
   "id": "6565c466-5b8e-4184-859c-3584e6e02be7",
   "metadata": {},
   "source": [
    "## Campaign initialization"
   ]
  },
  {
   "cell_type": "code",
   "execution_count": 4,
   "id": "7a483960-60d8-434a-bb79-13e74b5117c2",
   "metadata": {},
   "outputs": [],
   "source": [
    "cyan_campaign = HplcDadCampaign()"
   ]
  },
  {
   "cell_type": "markdown",
   "id": "e5297ebc-aaa7-4ed8-ac2c-37728cc14328",
   "metadata": {},
   "source": [
    "We create the first Gradient object for all runs."
   ]
  },
  {
   "cell_type": "code",
   "execution_count": 5,
   "id": "2527d2cb-25da-43d7-9f24-7a03dc5ec365",
   "metadata": {},
   "outputs": [],
   "source": [
    "gradient = Gradient(next(folder for folder in folders if \"gradient\" in folder))"
   ]
  },
  {
   "cell_type": "markdown",
   "id": "c8d66b7e-0da4-47d7-a1bf-67576d0bc31b",
   "metadata": {},
   "source": [
    "This campaign works in all runs (except the tetralin compound run) with an InternalStandard object of tetralin."
   ]
  },
  {
   "cell_type": "code",
   "execution_count": 6,
   "id": "ac449a8a-236b-4f53-8e2e-106f5bbe786f",
   "metadata": {},
   "outputs": [],
   "source": [
    "internal_standard = InternalStandard('tetralin', 0.06094)"
   ]
  },
  {
   "cell_type": "markdown",
   "id": "50e7d544-b812-48a5-8773-93d13c40aa02",
   "metadata": {
    "tags": []
   },
   "source": [
    "### User input for calibration runs"
   ]
  },
  {
   "cell_type": "markdown",
   "id": "0fd31d60-028d-49d9-bd2f-1f7df4134333",
   "metadata": {},
   "source": [
    "We transfer the concentration values of the calibration standards."
   ]
  },
  {
   "cell_type": "code",
   "execution_count": 7,
   "id": "4510a788-cdff-4ca1-900e-b1f9acfae57d",
   "metadata": {},
   "outputs": [],
   "source": [
    "ArCl_concs = [0.0603, 0.04422]\n",
    "ArCN_concs = [0.05955, 0.04367]"
   ]
  },
  {
   "cell_type": "markdown",
   "id": "f804c50d-c3d5-4a02-a661-56444dea86e5",
   "metadata": {},
   "source": [
    "First, we create a HplcInput object for the internal standard run and add it to the campaign."
   ]
  },
  {
   "cell_type": "code",
   "execution_count": 8,
   "id": "35b0dc6b-2db0-4415-bf18-d0f00325a310",
   "metadata": {},
   "outputs": [],
   "source": [
    "istd_run = HplcInput(next(folder for folder in folders if \"istd\" in folder),\n",
    "                     gradient, compound=Compound('tetralin', is_istd=True))\n",
    "cyan_campaign.add_hplc_input(istd_run)"
   ]
  },
  {
   "cell_type": "markdown",
   "id": "b8d9fa45-de83-4100-bc56-08c11b53b9f0",
   "metadata": {},
   "source": [
    "We create HplcInput objects for each calibration run and add it to the campaign"
   ]
  },
  {
   "cell_type": "code",
   "execution_count": 9,
   "id": "46cdc570-7118-4a4b-ab15-c29b2cdf6871",
   "metadata": {},
   "outputs": [],
   "source": [
    "ArCl_folders = [folder for folder in folders if \"educt\" in folder]\n",
    "for i, folder in enumerate(ArCl_folders):\n",
    "    compound = Compound('2-chlorotoluene', ArCl_concs[i])\n",
    "    exp = HplcInput(folder, gradient, compound=compound, istd=internal_standard)\n",
    "    cyan_campaign.add_hplc_input(exp)\n",
    "\n",
    "ArCN_folders = [folder for folder in folders if \"product\" in folder]\n",
    "for i, folder in enumerate(ArCN_folders):\n",
    "    compound = Compound('o-tolunitrile', ArCN_concs[i])\n",
    "    exp = HplcInput(folder, gradient, compound=compound, istd=internal_standard)\n",
    "    cyan_campaign.add_hplc_input(exp)\n",
    "\n",
    "cn_source_a_folder = next(folder for folder in folders if \"cnsource_a\" in folder)\n",
    "compound = Compound('cn_source_a')\n",
    "exp = HplcInput(cn_source_a_folder, gradient, compound=compound, istd=internal_standard)\n",
    "cyan_campaign.add_hplc_input(exp)\n",
    "\n",
    "cn_source_d_folder = next(folder for folder in folders if \"cnsource_d\" in folder)\n",
    "compound = Compound('cn_source_d')\n",
    "exp = HplcInput(cn_source_d_folder, gradient, compound=compound, istd=internal_standard)\n",
    "cyan_campaign.add_hplc_input(exp)"
   ]
  },
  {
   "cell_type": "markdown",
   "id": "68b9b038-7401-4e8d-8e46-252d1586c6a8",
   "metadata": {},
   "source": [
    "### User input for reaction runs"
   ]
  },
  {
   "cell_type": "code",
   "execution_count": 10,
   "id": "b9116a48-8575-435f-8d1c-6db568c059c0",
   "metadata": {},
   "outputs": [],
   "source": [
    "for folder in [folder for folder in folders if \"sample\" in folder]:\n",
    "    exp = HplcInput(folder, gradient, istd=internal_standard)\n",
    "    cyan_campaign.add_hplc_input(exp)"
   ]
  },
  {
   "cell_type": "markdown",
   "id": "87a70e0f-4b65-4f64-a2b2-051f1ae58247",
   "metadata": {},
   "source": [
    "### Settings for data processing"
   ]
  },
  {
   "cell_type": "code",
   "execution_count": 11,
   "id": "d3e8aea8-f5c8-45e4-bb75-e3d19d50befc",
   "metadata": {},
   "outputs": [],
   "source": [
    "settings = Settings('labsolutions',\n",
    "                    absorbance_threshold = 500, wl_high_pass = 215, \n",
    "                    peaks_high_pass = 1, peaks_low_pass = 5,\n",
    "                    spectrum_correl_thresh=0.99, relative_distance_thresh=0.0025)"
   ]
  },
  {
   "cell_type": "markdown",
   "id": "926a0b31-e525-4574-8cea-38e39ca6b203",
   "metadata": {},
   "source": [
    "### Data processing"
   ]
  },
  {
   "cell_type": "code",
   "execution_count": 12,
   "id": "a7e53c99-166e-4fa6-a5ff-700216a1729c",
   "metadata": {
    "tags": []
   },
   "outputs": [
    {
     "name": "stdout",
     "output_type": "stream",
     "text": [
      "CPU times: user 1h 22min 23s, sys: 2min 26s, total: 1h 24min 50s\n",
      "Wall time: 11min 1s\n"
     ]
    }
   ],
   "source": [
    "%%time\n",
    "cyan_campaign.process_all_hplc_input(settings)"
   ]
  },
  {
   "cell_type": "markdown",
   "id": "876d7ceb-7e66-4050-9569-ff4c97f25e40",
   "metadata": {
    "tags": []
   },
   "source": [
    "## Reporting"
   ]
  },
  {
   "cell_type": "code",
   "execution_count": 13,
   "id": "edb947f0-278c-40ee-8347-b1efd5d9c35a",
   "metadata": {},
   "outputs": [],
   "source": [
    "cyan_report_path = os.path.join(ipynb_path, \"cyanation_reports\")"
   ]
  },
  {
   "cell_type": "code",
   "execution_count": 14,
   "id": "6fe1501d-f580-4ce6-bb64-3596de1374a1",
   "metadata": {},
   "outputs": [
    {
     "data": {
      "text/markdown": [
       "Report saved to .//Users/haascp/Documents/GitHub/mocca/notebooks/cyanation_reports/report_hplc_input.html. To upload and share your report, create a free Datapane account by running `!datapane signup`."
      ],
      "text/plain": [
       "<IPython.core.display.Markdown object>"
      ]
     },
     "metadata": {},
     "output_type": "display_data"
    },
    {
     "data": {
      "text/markdown": [
       "How is your experience of Datapane? Please take two minutes to answer our anonymous product survey <a href='https://bit.ly/3lWjRlr' target='_blank'>here</a>"
      ],
      "text/plain": [
       "<IPython.core.display.Markdown object>"
      ]
     },
     "metadata": {},
     "output_type": "display_data"
    },
    {
     "data": {
      "text/markdown": [
       "Report saved to .//Users/haascp/Documents/GitHub/mocca/notebooks/cyanation_reports/report_gradient.html. To upload and share your report, create a free Datapane account by running `!datapane signup`."
      ],
      "text/plain": [
       "<IPython.core.display.Markdown object>"
      ]
     },
     "metadata": {},
     "output_type": "display_data"
    },
    {
     "data": {
      "text/markdown": [
       "Report saved to .//Users/haascp/Documents/GitHub/mocca/notebooks/cyanation_reports/report_chroms.html. To upload and share your report, create a free Datapane account by running `!datapane signup`."
      ],
      "text/plain": [
       "<IPython.core.display.Markdown object>"
      ]
     },
     "metadata": {},
     "output_type": "display_data"
    },
    {
     "data": {
      "text/markdown": [
       "Report saved to .//Users/haascp/Documents/GitHub/mocca/notebooks/cyanation_reports/report_runs.html. To upload and share your report, create a free Datapane account by running `!datapane signup`."
      ],
      "text/plain": [
       "<IPython.core.display.Markdown object>"
      ]
     },
     "metadata": {},
     "output_type": "display_data"
    },
    {
     "data": {
      "text/markdown": [
       "Report saved to .//Users/haascp/Documents/GitHub/mocca/notebooks/cyanation_reports/report_parafac.html. To upload and share your report, create a free Datapane account by running `!datapane signup`."
      ],
      "text/plain": [
       "<IPython.core.display.Markdown object>"
      ]
     },
     "metadata": {},
     "output_type": "display_data"
    },
    {
     "data": {
      "text/markdown": [
       "Report saved to .//Users/haascp/Documents/GitHub/mocca/notebooks/cyanation_reports/report_peak_db.html. To upload and share your report, create a free Datapane account by running `!datapane signup`."
      ],
      "text/plain": [
       "<IPython.core.display.Markdown object>"
      ]
     },
     "metadata": {},
     "output_type": "display_data"
    },
    {
     "data": {
      "text/markdown": [
       "Report saved to .//Users/haascp/Documents/GitHub/mocca/notebooks/cyanation_reports/report_quali_comp_db.html. To upload and share your report, create a free Datapane account by running `!datapane signup`."
      ],
      "text/plain": [
       "<IPython.core.display.Markdown object>"
      ]
     },
     "metadata": {},
     "output_type": "display_data"
    },
    {
     "data": {
      "text/markdown": [
       "Report saved to .//Users/haascp/Documents/GitHub/mocca/notebooks/cyanation_reports/report_quant_comp_db.html. To upload and share your report, create a free Datapane account by running `!datapane signup`."
      ],
      "text/plain": [
       "<IPython.core.display.Markdown object>"
      ]
     },
     "metadata": {},
     "output_type": "display_data"
    }
   ],
   "source": [
    "report_hplc_input(cyan_campaign.hplc_runs, cyan_report_path)\n",
    "report_gradients(cyan_campaign.hplc_runs, cyan_report_path)\n",
    "report_chroms(cyan_campaign.chroms, cyan_campaign.settings, cyan_report_path)\n",
    "report_runs(cyan_campaign.chroms, cyan_campaign.quali_comp_db, cyan_campaign.quant_comp_db, cyan_report_path)\n",
    "report_parafac(cyan_campaign.chroms, cyan_report_path)\n",
    "report_peaks(cyan_campaign.peak_db, cyan_report_path)\n",
    "report_quali_comps(cyan_campaign.quali_comp_db, cyan_report_path)\n",
    "report_quant_comps(cyan_campaign.quant_comp_db, cyan_report_path)"
   ]
  },
  {
   "cell_type": "markdown",
   "id": "736881b0-4eb3-498b-963f-5ad938408879",
   "metadata": {},
   "source": [
    "## Customized data analysis by the user\n",
    "\n",
    "This data analysis tool cannot include all possible data analysis needs of potential users. Therefore, we expect the user to do customized data analysis independently from the tool.\n",
    "\n",
    "We give an example here, how the yield over a 96-wellplate can be visualized."
   ]
  },
  {
   "cell_type": "code",
   "execution_count": 15,
   "id": "c03317a8-b6c8-4c1b-8da7-ad7bad406a9e",
   "metadata": {},
   "outputs": [],
   "source": [
    "import pandas as pd\n",
    "import altair as alt"
   ]
  },
  {
   "cell_type": "markdown",
   "id": "df464ed7-1915-4052-9f64-02fe4ed42e91",
   "metadata": {},
   "source": [
    "Extract results out of the campaign object"
   ]
  },
  {
   "cell_type": "code",
   "execution_count": 16,
   "id": "f6374075-cd86-4289-9397-8b0e860f01ed",
   "metadata": {},
   "outputs": [],
   "source": [
    "c0 = 0.06 #c0 refers to the molar amount of substrate that was used\n",
    "results = {\n",
    "    '2-chlorotoluene': [],\n",
    "    'o-tolunitrile': [],\n",
    "    'tetralin': [],\n",
    "    'column': [],\n",
    "    'row': [],\n",
    "    'path': [],\n",
    "    'conversion': [],\n",
    "    'yield': []\n",
    "}\n",
    "for i, chrom in enumerate(cyan_campaign.chroms):\n",
    "    if not chrom.experiment.compound:\n",
    "        results['2-chlorotoluene'].append(0)\n",
    "        results['o-tolunitrile'].append(0)\n",
    "        results['tetralin'].append(0)\n",
    "        results['conversion'].append(1)\n",
    "        results['yield'].append(0)\n",
    "        results['path'].append(chrom.experiment.path)\n",
    "        for peak in chrom.peaks:\n",
    "            if peak.compound_id == '2-chlorotoluene':\n",
    "                results['2-chlorotoluene'][-1] = peak.concentration\n",
    "                results['conversion'][-1] = (c0 - peak.concentration) / c0\n",
    "            if peak.compound_id == 'o-tolunitrile':\n",
    "                results['o-tolunitrile'][-1] = peak.concentration\n",
    "                results['yield'][-1] = peak.concentration / c0\n",
    "            if peak.compound_id == 'tetralin':\n",
    "                results['tetralin'][-1] = peak.integral"
   ]
  },
  {
   "cell_type": "code",
   "execution_count": 17,
   "id": "52219090-5122-42e2-82a8-748a9b10452a",
   "metadata": {},
   "outputs": [],
   "source": [
    "for path in results['path']:\n",
    "    num = int(path.split('_')[-1][:-4]) - 4\n",
    "    results['column'].append(str(num // 12 + 1))\n",
    "    results['row'].append(str(num - (num // 12 * 12) + 1))"
   ]
  },
  {
   "cell_type": "code",
   "execution_count": 18,
   "id": "0507acec-7017-4e92-8c0e-e97bf8cbaa77",
   "metadata": {},
   "outputs": [
    {
     "data": {
      "text/html": [
       "<div>\n",
       "<style scoped>\n",
       "    .dataframe tbody tr th:only-of-type {\n",
       "        vertical-align: middle;\n",
       "    }\n",
       "\n",
       "    .dataframe tbody tr th {\n",
       "        vertical-align: top;\n",
       "    }\n",
       "\n",
       "    .dataframe thead th {\n",
       "        text-align: right;\n",
       "    }\n",
       "</style>\n",
       "<table border=\"1\" class=\"dataframe\">\n",
       "  <thead>\n",
       "    <tr style=\"text-align: right;\">\n",
       "      <th></th>\n",
       "      <th>2-chlorotoluene</th>\n",
       "      <th>o-tolunitrile</th>\n",
       "      <th>tetralin</th>\n",
       "      <th>column</th>\n",
       "      <th>row</th>\n",
       "      <th>path</th>\n",
       "      <th>conversion</th>\n",
       "      <th>yield</th>\n",
       "    </tr>\n",
       "  </thead>\n",
       "  <tbody>\n",
       "    <tr>\n",
       "      <th>0</th>\n",
       "      <td>0.031480</td>\n",
       "      <td>0.026135</td>\n",
       "      <td>73248.554415</td>\n",
       "      <td>1</td>\n",
       "      <td>1</td>\n",
       "      <td>/Users/haascp/Documents/GitHub/mocca/notebooks...</td>\n",
       "      <td>0.475330</td>\n",
       "      <td>0.435576</td>\n",
       "    </tr>\n",
       "    <tr>\n",
       "      <th>1</th>\n",
       "      <td>0.053287</td>\n",
       "      <td>0.003443</td>\n",
       "      <td>69467.653147</td>\n",
       "      <td>1</td>\n",
       "      <td>2</td>\n",
       "      <td>/Users/haascp/Documents/GitHub/mocca/notebooks...</td>\n",
       "      <td>0.111887</td>\n",
       "      <td>0.057380</td>\n",
       "    </tr>\n",
       "    <tr>\n",
       "      <th>2</th>\n",
       "      <td>0.056382</td>\n",
       "      <td>0.000000</td>\n",
       "      <td>67040.661737</td>\n",
       "      <td>1</td>\n",
       "      <td>3</td>\n",
       "      <td>/Users/haascp/Documents/GitHub/mocca/notebooks...</td>\n",
       "      <td>0.060302</td>\n",
       "      <td>0.000000</td>\n",
       "    </tr>\n",
       "    <tr>\n",
       "      <th>3</th>\n",
       "      <td>0.000000</td>\n",
       "      <td>0.041174</td>\n",
       "      <td>73071.757417</td>\n",
       "      <td>1</td>\n",
       "      <td>4</td>\n",
       "      <td>/Users/haascp/Documents/GitHub/mocca/notebooks...</td>\n",
       "      <td>1.000000</td>\n",
       "      <td>0.686229</td>\n",
       "    </tr>\n",
       "    <tr>\n",
       "      <th>4</th>\n",
       "      <td>0.000000</td>\n",
       "      <td>0.029078</td>\n",
       "      <td>67102.296758</td>\n",
       "      <td>1</td>\n",
       "      <td>5</td>\n",
       "      <td>/Users/haascp/Documents/GitHub/mocca/notebooks...</td>\n",
       "      <td>1.000000</td>\n",
       "      <td>0.484638</td>\n",
       "    </tr>\n",
       "    <tr>\n",
       "      <th>...</th>\n",
       "      <td>...</td>\n",
       "      <td>...</td>\n",
       "      <td>...</td>\n",
       "      <td>...</td>\n",
       "      <td>...</td>\n",
       "      <td>...</td>\n",
       "      <td>...</td>\n",
       "      <td>...</td>\n",
       "    </tr>\n",
       "    <tr>\n",
       "      <th>79</th>\n",
       "      <td>0.059315</td>\n",
       "      <td>0.000000</td>\n",
       "      <td>68634.193632</td>\n",
       "      <td>7</td>\n",
       "      <td>8</td>\n",
       "      <td>/Users/haascp/Documents/GitHub/mocca/notebooks...</td>\n",
       "      <td>0.011424</td>\n",
       "      <td>0.000000</td>\n",
       "    </tr>\n",
       "    <tr>\n",
       "      <th>80</th>\n",
       "      <td>0.058898</td>\n",
       "      <td>0.000000</td>\n",
       "      <td>77854.308444</td>\n",
       "      <td>7</td>\n",
       "      <td>9</td>\n",
       "      <td>/Users/haascp/Documents/GitHub/mocca/notebooks...</td>\n",
       "      <td>0.018361</td>\n",
       "      <td>0.000000</td>\n",
       "    </tr>\n",
       "    <tr>\n",
       "      <th>81</th>\n",
       "      <td>0.044353</td>\n",
       "      <td>0.000000</td>\n",
       "      <td>163417.838533</td>\n",
       "      <td>7</td>\n",
       "      <td>10</td>\n",
       "      <td>/Users/haascp/Documents/GitHub/mocca/notebooks...</td>\n",
       "      <td>0.260785</td>\n",
       "      <td>0.000000</td>\n",
       "    </tr>\n",
       "    <tr>\n",
       "      <th>82</th>\n",
       "      <td>0.052976</td>\n",
       "      <td>0.000000</td>\n",
       "      <td>64657.708972</td>\n",
       "      <td>7</td>\n",
       "      <td>11</td>\n",
       "      <td>/Users/haascp/Documents/GitHub/mocca/notebooks...</td>\n",
       "      <td>0.117063</td>\n",
       "      <td>0.000000</td>\n",
       "    </tr>\n",
       "    <tr>\n",
       "      <th>83</th>\n",
       "      <td>0.058353</td>\n",
       "      <td>0.000000</td>\n",
       "      <td>75710.391122</td>\n",
       "      <td>7</td>\n",
       "      <td>12</td>\n",
       "      <td>/Users/haascp/Documents/GitHub/mocca/notebooks...</td>\n",
       "      <td>0.027454</td>\n",
       "      <td>0.000000</td>\n",
       "    </tr>\n",
       "  </tbody>\n",
       "</table>\n",
       "<p>84 rows × 8 columns</p>\n",
       "</div>"
      ],
      "text/plain": [
       "    2-chlorotoluene  o-tolunitrile       tetralin column row  \\\n",
       "0          0.031480       0.026135   73248.554415      1   1   \n",
       "1          0.053287       0.003443   69467.653147      1   2   \n",
       "2          0.056382       0.000000   67040.661737      1   3   \n",
       "3          0.000000       0.041174   73071.757417      1   4   \n",
       "4          0.000000       0.029078   67102.296758      1   5   \n",
       "..              ...            ...            ...    ...  ..   \n",
       "79         0.059315       0.000000   68634.193632      7   8   \n",
       "80         0.058898       0.000000   77854.308444      7   9   \n",
       "81         0.044353       0.000000  163417.838533      7  10   \n",
       "82         0.052976       0.000000   64657.708972      7  11   \n",
       "83         0.058353       0.000000   75710.391122      7  12   \n",
       "\n",
       "                                                 path  conversion     yield  \n",
       "0   /Users/haascp/Documents/GitHub/mocca/notebooks...    0.475330  0.435576  \n",
       "1   /Users/haascp/Documents/GitHub/mocca/notebooks...    0.111887  0.057380  \n",
       "2   /Users/haascp/Documents/GitHub/mocca/notebooks...    0.060302  0.000000  \n",
       "3   /Users/haascp/Documents/GitHub/mocca/notebooks...    1.000000  0.686229  \n",
       "4   /Users/haascp/Documents/GitHub/mocca/notebooks...    1.000000  0.484638  \n",
       "..                                                ...         ...       ...  \n",
       "79  /Users/haascp/Documents/GitHub/mocca/notebooks...    0.011424  0.000000  \n",
       "80  /Users/haascp/Documents/GitHub/mocca/notebooks...    0.018361  0.000000  \n",
       "81  /Users/haascp/Documents/GitHub/mocca/notebooks...    0.260785  0.000000  \n",
       "82  /Users/haascp/Documents/GitHub/mocca/notebooks...    0.117063  0.000000  \n",
       "83  /Users/haascp/Documents/GitHub/mocca/notebooks...    0.027454  0.000000  \n",
       "\n",
       "[84 rows x 8 columns]"
      ]
     },
     "execution_count": 18,
     "metadata": {},
     "output_type": "execute_result"
    }
   ],
   "source": [
    "results_df = pd.DataFrame(results)\n",
    "row_order = [str(val) for val in list(range(1, 13))]\n",
    "results_df"
   ]
  },
  {
   "cell_type": "code",
   "execution_count": 19,
   "id": "944771b5-708c-48c5-9f70-9ff43b417cc3",
   "metadata": {},
   "outputs": [
    {
     "data": {
      "text/html": [
       "\n",
       "<div id=\"altair-viz-c02d72c6e4914d949acba487ca1c2688\"></div>\n",
       "<script type=\"text/javascript\">\n",
       "  (function(spec, embedOpt){\n",
       "    let outputDiv = document.currentScript.previousElementSibling;\n",
       "    if (outputDiv.id !== \"altair-viz-c02d72c6e4914d949acba487ca1c2688\") {\n",
       "      outputDiv = document.getElementById(\"altair-viz-c02d72c6e4914d949acba487ca1c2688\");\n",
       "    }\n",
       "    const paths = {\n",
       "      \"vega\": \"https://cdn.jsdelivr.net/npm//vega@5?noext\",\n",
       "      \"vega-lib\": \"https://cdn.jsdelivr.net/npm//vega-lib?noext\",\n",
       "      \"vega-lite\": \"https://cdn.jsdelivr.net/npm//vega-lite@4.8.1?noext\",\n",
       "      \"vega-embed\": \"https://cdn.jsdelivr.net/npm//vega-embed@6?noext\",\n",
       "    };\n",
       "\n",
       "    function loadScript(lib) {\n",
       "      return new Promise(function(resolve, reject) {\n",
       "        var s = document.createElement('script');\n",
       "        s.src = paths[lib];\n",
       "        s.async = true;\n",
       "        s.onload = () => resolve(paths[lib]);\n",
       "        s.onerror = () => reject(`Error loading script: ${paths[lib]}`);\n",
       "        document.getElementsByTagName(\"head\")[0].appendChild(s);\n",
       "      });\n",
       "    }\n",
       "\n",
       "    function showError(err) {\n",
       "      outputDiv.innerHTML = `<div class=\"error\" style=\"color:red;\">${err}</div>`;\n",
       "      throw err;\n",
       "    }\n",
       "\n",
       "    function displayChart(vegaEmbed) {\n",
       "      vegaEmbed(outputDiv, spec, embedOpt)\n",
       "        .catch(err => showError(`Javascript Error: ${err.message}<br>This usually means there's a typo in your chart specification. See the javascript console for the full traceback.`));\n",
       "    }\n",
       "\n",
       "    if(typeof define === \"function\" && define.amd) {\n",
       "      requirejs.config({paths});\n",
       "      require([\"vega-embed\"], displayChart, err => showError(`Error loading script: ${err.message}`));\n",
       "    } else if (typeof vegaEmbed === \"function\") {\n",
       "      displayChart(vegaEmbed);\n",
       "    } else {\n",
       "      loadScript(\"vega\")\n",
       "        .then(() => loadScript(\"vega-lite\"))\n",
       "        .then(() => loadScript(\"vega-embed\"))\n",
       "        .catch(showError)\n",
       "        .then(() => displayChart(vegaEmbed));\n",
       "    }\n",
       "  })({\"config\": {\"view\": {\"continuousWidth\": 400, \"continuousHeight\": 300}}, \"layer\": [{\"mark\": \"rect\", \"encoding\": {\"color\": {\"type\": \"quantitative\", \"field\": \"yield\", \"title\": \"Yield\"}, \"x\": {\"type\": \"nominal\", \"field\": \"row\", \"sort\": [\"1\", \"2\", \"3\", \"4\", \"5\", \"6\", \"7\", \"8\", \"9\", \"10\", \"11\", \"12\"]}, \"y\": {\"type\": \"nominal\", \"field\": \"column\"}}, \"title\": \"Yield\"}, {\"mark\": \"text\", \"encoding\": {\"text\": {\"type\": \"quantitative\", \"field\": \"yield\"}, \"x\": {\"type\": \"nominal\", \"field\": \"row\", \"sort\": [\"1\", \"2\", \"3\", \"4\", \"5\", \"6\", \"7\", \"8\", \"9\", \"10\", \"11\", \"12\"]}, \"y\": {\"type\": \"nominal\", \"field\": \"column\"}}, \"title\": \"Yield\"}], \"data\": {\"name\": \"data-5cce2f20cfc922a719bfc29e5dfbce08\"}, \"$schema\": \"https://vega.github.io/schema/vega-lite/v4.8.1.json\", \"datasets\": {\"data-5cce2f20cfc922a719bfc29e5dfbce08\": [{\"2-chlorotoluene\": 0.03148017319866776, \"o-tolunitrile\": 0.026134564719683354, \"tetralin\": 73248.55441479034, \"column\": \"1\", \"row\": \"1\", \"path\": \"/Users/haascp/Documents/GitHub/mocca/notebooks/cyanation_data/09072021_sample_4.txt\", \"conversion\": 0.4753304466888706, \"yield\": 44.0}, {\"2-chlorotoluene\": 0.05328680669000091, \"o-tolunitrile\": 0.003442803241862587, \"tetralin\": 69467.65314699116, \"column\": \"1\", \"row\": \"2\", \"path\": \"/Users/haascp/Documents/GitHub/mocca/notebooks/cyanation_data/09072021_sample_5.txt\", \"conversion\": 0.11188655516665147, \"yield\": 6.0}, {\"2-chlorotoluene\": 0.05638185370411537, \"o-tolunitrile\": 0.0, \"tetralin\": 67040.66173732307, \"column\": \"1\", \"row\": \"3\", \"path\": \"/Users/haascp/Documents/GitHub/mocca/notebooks/cyanation_data/09072021_sample_6.txt\", \"conversion\": 0.060302438264743755, \"yield\": 0.0}, {\"2-chlorotoluene\": 0.0, \"o-tolunitrile\": 0.041173764016302024, \"tetralin\": 73071.757416594, \"column\": \"1\", \"row\": \"4\", \"path\": \"/Users/haascp/Documents/GitHub/mocca/notebooks/cyanation_data/09072021_sample_7.txt\", \"conversion\": 1.0, \"yield\": 69.0}, {\"2-chlorotoluene\": 0.0, \"o-tolunitrile\": 0.029078257109705057, \"tetralin\": 67102.29675816523, \"column\": \"1\", \"row\": \"5\", \"path\": \"/Users/haascp/Documents/GitHub/mocca/notebooks/cyanation_data/09072021_sample_8.txt\", \"conversion\": 1.0, \"yield\": 48.0}, {\"2-chlorotoluene\": 0.0, \"o-tolunitrile\": 0.04972109236464396, \"tetralin\": 75697.70399730407, \"column\": \"1\", \"row\": \"6\", \"path\": \"/Users/haascp/Documents/GitHub/mocca/notebooks/cyanation_data/09072021_sample_9.txt\", \"conversion\": 1.0, \"yield\": 83.0}, {\"2-chlorotoluene\": 0.04007445363540235, \"o-tolunitrile\": 0.009351876699702865, \"tetralin\": 93870.7818555666, \"column\": \"1\", \"row\": \"7\", \"path\": \"/Users/haascp/Documents/GitHub/mocca/notebooks/cyanation_data/09072021_sample_10.txt\", \"conversion\": 0.3320924394099608, \"yield\": 16.0}, {\"2-chlorotoluene\": 0.04975589833987742, \"o-tolunitrile\": 0.004045125254108686, \"tetralin\": 59539.956986975434, \"column\": \"1\", \"row\": \"8\", \"path\": \"/Users/haascp/Documents/GitHub/mocca/notebooks/cyanation_data/09072021_sample_11.txt\", \"conversion\": 0.17073502766870968, \"yield\": 7.0}, {\"2-chlorotoluene\": 0.04676920682071755, \"o-tolunitrile\": 0.008276879677315786, \"tetralin\": 65948.72306935836, \"column\": \"1\", \"row\": \"9\", \"path\": \"/Users/haascp/Documents/GitHub/mocca/notebooks/cyanation_data/09072021_sample_12.txt\", \"conversion\": 0.22051321965470747, \"yield\": 14.0}, {\"2-chlorotoluene\": 0.047782213469338516, \"o-tolunitrile\": 0.0, \"tetralin\": 64664.68956568539, \"column\": \"1\", \"row\": \"10\", \"path\": \"/Users/haascp/Documents/GitHub/mocca/notebooks/cyanation_data/09072021_sample_13.txt\", \"conversion\": 0.2036297755110247, \"yield\": 0.0}, {\"2-chlorotoluene\": 0.046099875022984835, \"o-tolunitrile\": 0.0, \"tetralin\": 62900.06818529938, \"column\": \"1\", \"row\": \"11\", \"path\": \"/Users/haascp/Documents/GitHub/mocca/notebooks/cyanation_data/09072021_sample_14.txt\", \"conversion\": 0.23166874961691938, \"yield\": 0.0}, {\"2-chlorotoluene\": 0.04831741817941903, \"o-tolunitrile\": 0.0, \"tetralin\": 60781.5392096312, \"column\": \"1\", \"row\": \"12\", \"path\": \"/Users/haascp/Documents/GitHub/mocca/notebooks/cyanation_data/09072021_sample_15.txt\", \"conversion\": 0.19470969700968283, \"yield\": 0.0}, {\"2-chlorotoluene\": 0.05904510464805468, \"o-tolunitrile\": 0.0, \"tetralin\": 69390.45682905825, \"column\": \"2\", \"row\": \"1\", \"path\": \"/Users/haascp/Documents/GitHub/mocca/notebooks/cyanation_data/09072021_sample_16.txt\", \"conversion\": 0.01591492253242196, \"yield\": 0.0}, {\"2-chlorotoluene\": 0.0577513093715161, \"o-tolunitrile\": 0.0014001219835892006, \"tetralin\": 63091.33583211107, \"column\": \"2\", \"row\": \"2\", \"path\": \"/Users/haascp/Documents/GitHub/mocca/notebooks/cyanation_data/09072021_sample_17.txt\", \"conversion\": 0.03747817714139824, \"yield\": 2.0}, {\"2-chlorotoluene\": 0.057356430977980544, \"o-tolunitrile\": 0.0, \"tetralin\": 67849.02739432648, \"column\": \"2\", \"row\": \"3\", \"path\": \"/Users/haascp/Documents/GitHub/mocca/notebooks/cyanation_data/09072021_sample_18.txt\", \"conversion\": 0.04405948370032424, \"yield\": 0.0}, {\"2-chlorotoluene\": 0.055876543921007125, \"o-tolunitrile\": 0.0013076101701503715, \"tetralin\": 68083.93780688012, \"column\": \"2\", \"row\": \"4\", \"path\": \"/Users/haascp/Documents/GitHub/mocca/notebooks/cyanation_data/09072021_sample_19.txt\", \"conversion\": 0.06872426798321454, \"yield\": 2.0}, {\"2-chlorotoluene\": 0.05711798778434857, \"o-tolunitrile\": 0.0029318930809643395, \"tetralin\": 60871.04311462906, \"column\": \"2\", \"row\": \"5\", \"path\": \"/Users/haascp/Documents/GitHub/mocca/notebooks/cyanation_data/09072021_sample_20.txt\", \"conversion\": 0.048033536927523844, \"yield\": 5.0}, {\"2-chlorotoluene\": 0.060320171780474566, \"o-tolunitrile\": 0.0, \"tetralin\": 62493.55837318372, \"column\": \"2\", \"row\": \"6\", \"path\": \"/Users/haascp/Documents/GitHub/mocca/notebooks/cyanation_data/09072021_sample_21.txt\", \"conversion\": -0.005336196341242799, \"yield\": 0.0}, {\"2-chlorotoluene\": 0.04817994035093787, \"o-tolunitrile\": 0.014403743170777462, \"tetralin\": 63952.37943211107, \"column\": \"2\", \"row\": \"7\", \"path\": \"/Users/haascp/Documents/GitHub/mocca/notebooks/cyanation_data/09072021_sample_22.txt\", \"conversion\": 0.19700099415103553, \"yield\": 24.0}, {\"2-chlorotoluene\": 0.05019826809302702, \"o-tolunitrile\": 0.006949118972081771, \"tetralin\": 59605.5686321111, \"column\": \"2\", \"row\": \"8\", \"path\": \"/Users/haascp/Documents/GitHub/mocca/notebooks/cyanation_data/09072021_sample_23.txt\", \"conversion\": 0.16336219844954963, \"yield\": 12.0}, {\"2-chlorotoluene\": 0.04464371445969305, \"o-tolunitrile\": 0.01279266534776661, \"tetralin\": 60795.541368008286, \"column\": \"2\", \"row\": \"9\", \"path\": \"/Users/haascp/Documents/GitHub/mocca/notebooks/cyanation_data/09072021_sample_24.txt\", \"conversion\": 0.25593809233844916, \"yield\": 21.0}, {\"2-chlorotoluene\": 0.043880881928058654, \"o-tolunitrile\": 0.0034074255680999637, \"tetralin\": 64356.16080688014, \"column\": \"2\", \"row\": \"10\", \"path\": \"/Users/haascp/Documents/GitHub/mocca/notebooks/cyanation_data/09072021_sample_25.txt\", \"conversion\": 0.26865196786568907, \"yield\": 6.0}, {\"2-chlorotoluene\": 0.03868750853375703, \"o-tolunitrile\": 0.0, \"tetralin\": 58055.84358572615, \"column\": \"2\", \"row\": \"11\", \"path\": \"/Users/haascp/Documents/GitHub/mocca/notebooks/cyanation_data/09072021_sample_26.txt\", \"conversion\": 0.3552081911040495, \"yield\": 0.0}, {\"2-chlorotoluene\": 0.044727331789877575, \"o-tolunitrile\": 0.003259930699119486, \"tetralin\": 94324.25726075956, \"column\": \"2\", \"row\": \"12\", \"path\": \"/Users/haascp/Documents/GitHub/mocca/notebooks/cyanation_data/09072021_sample_27.txt\", \"conversion\": 0.25454447016870707, \"yield\": 5.0}, {\"2-chlorotoluene\": 0.05692768114954798, \"o-tolunitrile\": 0.0, \"tetralin\": 67548.478386322, \"column\": \"3\", \"row\": \"1\", \"path\": \"/Users/haascp/Documents/GitHub/mocca/notebooks/cyanation_data/09072021_sample_28.txt\", \"conversion\": 0.051205314174200316, \"yield\": 0.0}, {\"2-chlorotoluene\": 0.05966234081944353, \"o-tolunitrile\": 0.0, \"tetralin\": 62010.38474120698, \"column\": \"3\", \"row\": \"2\", \"path\": \"/Users/haascp/Documents/GitHub/mocca/notebooks/cyanation_data/09072021_sample_29.txt\", \"conversion\": 0.005627653009274494, \"yield\": 0.0}, {\"2-chlorotoluene\": 0.06028795836634879, \"o-tolunitrile\": 0.0, \"tetralin\": 63639.082831786145, \"column\": \"3\", \"row\": \"3\", \"path\": \"/Users/haascp/Documents/GitHub/mocca/notebooks/cyanation_data/09072021_sample_30.txt\", \"conversion\": -0.004799306105813158, \"yield\": 0.0}, {\"2-chlorotoluene\": 0.0, \"o-tolunitrile\": 0.05583959049150484, \"tetralin\": 65253.7947434105, \"column\": \"3\", \"row\": \"4\", \"path\": \"/Users/haascp/Documents/GitHub/mocca/notebooks/cyanation_data/09072021_sample_31.txt\", \"conversion\": 1.0, \"yield\": 93.0}, {\"2-chlorotoluene\": 0.0, \"o-tolunitrile\": 0.046925605070487125, \"tetralin\": 60329.37481436327, \"column\": \"3\", \"row\": \"5\", \"path\": \"/Users/haascp/Documents/GitHub/mocca/notebooks/cyanation_data/09072021_sample_32.txt\", \"conversion\": 1.0, \"yield\": 78.0}, {\"2-chlorotoluene\": 0.060762930624178986, \"o-tolunitrile\": 0.0, \"tetralin\": 60342.48491456268, \"column\": \"3\", \"row\": \"6\", \"path\": \"/Users/haascp/Documents/GitHub/mocca/notebooks/cyanation_data/09072021_sample_33.txt\", \"conversion\": -0.012715510402983137, \"yield\": 0.0}, {\"2-chlorotoluene\": 0.03327407616199526, \"o-tolunitrile\": 0.02833086771335552, \"tetralin\": 62546.492612518596, \"column\": \"3\", \"row\": \"7\", \"path\": \"/Users/haascp/Documents/GitHub/mocca/notebooks/cyanation_data/09072021_sample_34.txt\", \"conversion\": 0.4454320639667457, \"yield\": 47.0}, {\"2-chlorotoluene\": 0.03805439858781438, \"o-tolunitrile\": 0.014414666220243033, \"tetralin\": 58477.701168613174, \"column\": \"3\", \"row\": \"8\", \"path\": \"/Users/haascp/Documents/GitHub/mocca/notebooks/cyanation_data/09072021_sample_35.txt\", \"conversion\": 0.365760023536427, \"yield\": 24.0}, {\"2-chlorotoluene\": 0.042867768278703484, \"o-tolunitrile\": 0.014664604939868684, \"tetralin\": 70278.04212523937, \"column\": \"3\", \"row\": \"9\", \"path\": \"/Users/haascp/Documents/GitHub/mocca/notebooks/cyanation_data/09072021_sample_36.txt\", \"conversion\": 0.2855371953549419, \"yield\": 24.0}, {\"2-chlorotoluene\": 0.04247498427133647, \"o-tolunitrile\": 0.0021158207477008084, \"tetralin\": 61697.7744208195, \"column\": \"3\", \"row\": \"10\", \"path\": \"/Users/haascp/Documents/GitHub/mocca/notebooks/cyanation_data/09072021_sample_37.txt\", \"conversion\": 0.2920835954777255, \"yield\": 4.0}, {\"2-chlorotoluene\": 0.039081166175136274, \"o-tolunitrile\": 0.0, \"tetralin\": 66807.1698267479, \"column\": \"3\", \"row\": \"11\", \"path\": \"/Users/haascp/Documents/GitHub/mocca/notebooks/cyanation_data/09072021_sample_38.txt\", \"conversion\": 0.3486472304143954, \"yield\": 0.0}, {\"2-chlorotoluene\": 0.040841645689461505, \"o-tolunitrile\": 0.002051223245336086, \"tetralin\": 129726.00508928385, \"column\": \"3\", \"row\": \"12\", \"path\": \"/Users/haascp/Documents/GitHub/mocca/notebooks/cyanation_data/09072021_sample_39.txt\", \"conversion\": 0.31930590517564156, \"yield\": 3.0}, {\"2-chlorotoluene\": 0.05973330771797839, \"o-tolunitrile\": 0.0, \"tetralin\": 71567.37524534093, \"column\": \"4\", \"row\": \"1\", \"path\": \"/Users/haascp/Documents/GitHub/mocca/notebooks/cyanation_data/09072021_sample_40.txt\", \"conversion\": 0.004444871367026773, \"yield\": 0.0}, {\"2-chlorotoluene\": 0.057229809385242365, \"o-tolunitrile\": 0.0, \"tetralin\": 70849.22350635423, \"column\": \"4\", \"row\": \"2\", \"path\": \"/Users/haascp/Documents/GitHub/mocca/notebooks/cyanation_data/09072021_sample_41.txt\", \"conversion\": 0.04616984357929388, \"yield\": 0.0}, {\"2-chlorotoluene\": 0.06061498788585126, \"o-tolunitrile\": 0.0, \"tetralin\": 72610.18366770075, \"column\": \"4\", \"row\": \"3\", \"path\": \"/Users/haascp/Documents/GitHub/mocca/notebooks/cyanation_data/09072021_sample_42.txt\", \"conversion\": -0.010249798097521079, \"yield\": 0.0}, {\"2-chlorotoluene\": 0.05823658055450228, \"o-tolunitrile\": 0.0015376867032540474, \"tetralin\": 76398.30784215248, \"column\": \"4\", \"row\": \"4\", \"path\": \"/Users/haascp/Documents/GitHub/mocca/notebooks/cyanation_data/09072021_sample_43.txt\", \"conversion\": 0.029390324091628624, \"yield\": 3.0}, {\"2-chlorotoluene\": 0.033395188715211306, \"o-tolunitrile\": 0.02656069123508457, \"tetralin\": 66671.24761139821, \"column\": \"4\", \"row\": \"5\", \"path\": \"/Users/haascp/Documents/GitHub/mocca/notebooks/cyanation_data/09072021_sample_44.txt\", \"conversion\": 0.4434135214131449, \"yield\": 44.0}, {\"2-chlorotoluene\": 0.062014361620045436, \"o-tolunitrile\": 0.0, \"tetralin\": 68296.8181917949, \"column\": \"4\", \"row\": \"6\", \"path\": \"/Users/haascp/Documents/GitHub/mocca/notebooks/cyanation_data/09072021_sample_45.txt\", \"conversion\": -0.033572693667423964, \"yield\": 0.0}, {\"2-chlorotoluene\": 0.011727254331782452, \"o-tolunitrile\": 0.05142627782717881, \"tetralin\": 69337.78156806252, \"column\": \"4\", \"row\": \"7\", \"path\": \"/Users/haascp/Documents/GitHub/mocca/notebooks/cyanation_data/09072021_sample_46.txt\", \"conversion\": 0.8045457611369591, \"yield\": 86.0}, {\"2-chlorotoluene\": 0.033964208088079526, \"o-tolunitrile\": 0.023276325423744727, \"tetralin\": 64919.23612758389, \"column\": \"4\", \"row\": \"8\", \"path\": \"/Users/haascp/Documents/GitHub/mocca/notebooks/cyanation_data/09072021_sample_47.txt\", \"conversion\": 0.43392986519867455, \"yield\": 39.0}, {\"2-chlorotoluene\": 0.04113888991817354, \"o-tolunitrile\": 0.008565120381495768, \"tetralin\": 104376.05681693877, \"column\": \"4\", \"row\": \"9\", \"path\": \"/Users/haascp/Documents/GitHub/mocca/notebooks/cyanation_data/09072021_sample_48.txt\", \"conversion\": 0.3143518346971076, \"yield\": 14.0}, {\"2-chlorotoluene\": 0.04627314680876108, \"o-tolunitrile\": 0.0031849985889397026, \"tetralin\": 62917.73466681988, \"column\": \"4\", \"row\": \"10\", \"path\": \"/Users/haascp/Documents/GitHub/mocca/notebooks/cyanation_data/09072021_sample_49.txt\", \"conversion\": 0.22878088652064862, \"yield\": 5.0}, {\"2-chlorotoluene\": 0.04159995107441433, \"o-tolunitrile\": 0.0013093762480488663, \"tetralin\": 84618.96603261297, \"column\": \"4\", \"row\": \"11\", \"path\": \"/Users/haascp/Documents/GitHub/mocca/notebooks/cyanation_data/09072021_sample_50.txt\", \"conversion\": 0.30666748209309447, \"yield\": 2.0}, {\"2-chlorotoluene\": 0.032957194787460016, \"o-tolunitrile\": 0.004477841965017502, \"tetralin\": 194674.4245590763, \"column\": \"4\", \"row\": \"12\", \"path\": \"/Users/haascp/Documents/GitHub/mocca/notebooks/cyanation_data/09072021_sample_51.txt\", \"conversion\": 0.45071342020899974, \"yield\": 7.0}, {\"2-chlorotoluene\": 0.05781649518425904, \"o-tolunitrile\": 0.0, \"tetralin\": 63431.36436484099, \"column\": \"5\", \"row\": \"1\", \"path\": \"/Users/haascp/Documents/GitHub/mocca/notebooks/cyanation_data/09072021_sample_52.txt\", \"conversion\": 0.03639174692901595, \"yield\": 0.0}, {\"2-chlorotoluene\": 0.05918179325533322, \"o-tolunitrile\": 0.0, \"tetralin\": 60725.781560189746, \"column\": \"5\", \"row\": \"2\", \"path\": \"/Users/haascp/Documents/GitHub/mocca/notebooks/cyanation_data/09072021_sample_53.txt\", \"conversion\": 0.013636779077779576, \"yield\": 0.0}, {\"2-chlorotoluene\": 0.06201575453714962, \"o-tolunitrile\": 0.0, \"tetralin\": 59228.23839377533, \"column\": \"5\", \"row\": \"3\", \"path\": \"/Users/haascp/Documents/GitHub/mocca/notebooks/cyanation_data/09072021_sample_54.txt\", \"conversion\": -0.03359590895249375, \"yield\": 0.0}, {\"2-chlorotoluene\": 0.06007227532329881, \"o-tolunitrile\": 0.0, \"tetralin\": 66692.73838632196, \"column\": \"5\", \"row\": \"4\", \"path\": \"/Users/haascp/Documents/GitHub/mocca/notebooks/cyanation_data/09072021_sample_55.txt\", \"conversion\": -0.0012045887216469153, \"yield\": 0.0}, {\"2-chlorotoluene\": 0.05780923422698444, \"o-tolunitrile\": 0.0, \"tetralin\": 62043.87109009156, \"column\": \"5\", \"row\": \"5\", \"path\": \"/Users/haascp/Documents/GitHub/mocca/notebooks/cyanation_data/09072021_sample_56.txt\", \"conversion\": 0.03651276288359265, \"yield\": 0.0}, {\"2-chlorotoluene\": 0.061426101443965875, \"o-tolunitrile\": 0.0, \"tetralin\": 63049.22295459817, \"column\": \"5\", \"row\": \"6\", \"path\": \"/Users/haascp/Documents/GitHub/mocca/notebooks/cyanation_data/09072021_sample_57.txt\", \"conversion\": -0.023768357399431284, \"yield\": 0.0}, {\"2-chlorotoluene\": 0.0, \"o-tolunitrile\": 0.05654976488781278, \"tetralin\": 67184.39148583777, \"column\": \"5\", \"row\": \"7\", \"path\": \"/Users/haascp/Documents/GitHub/mocca/notebooks/cyanation_data/09072021_sample_58.txt\", \"conversion\": 1.0, \"yield\": 94.0}, {\"2-chlorotoluene\": 0.03168350448270761, \"o-tolunitrile\": 0.02678745356648468, \"tetralin\": 57337.66362474412, \"column\": \"5\", \"row\": \"8\", \"path\": \"/Users/haascp/Documents/GitHub/mocca/notebooks/cyanation_data/09072021_sample_59.txt\", \"conversion\": 0.4719415919548731, \"yield\": 45.0}, {\"2-chlorotoluene\": 0.04987275530514079, \"o-tolunitrile\": 0.0018404675767716488, \"tetralin\": 79011.86068914364, \"column\": \"5\", \"row\": \"9\", \"path\": \"/Users/haascp/Documents/GitHub/mocca/notebooks/cyanation_data/09072021_sample_60.txt\", \"conversion\": 0.16878741158098676, \"yield\": 3.0}, {\"2-chlorotoluene\": 0.04080818769063749, \"o-tolunitrile\": 0.010097939625594446, \"tetralin\": 62811.50281912029, \"column\": \"5\", \"row\": \"10\", \"path\": \"/Users/haascp/Documents/GitHub/mocca/notebooks/cyanation_data/09072021_sample_61.txt\", \"conversion\": 0.3198635384893752, \"yield\": 17.0}, {\"2-chlorotoluene\": 0.035637729568296445, \"o-tolunitrile\": 0.0033284466828984345, \"tetralin\": 142860.8107026846, \"column\": \"5\", \"row\": \"11\", \"path\": \"/Users/haascp/Documents/GitHub/mocca/notebooks/cyanation_data/09072021_sample_62.txt\", \"conversion\": 0.4060378405283926, \"yield\": 6.0}, {\"2-chlorotoluene\": 0.038185953764816934, \"o-tolunitrile\": 0.011229701497839369, \"tetralin\": 94163.35884893301, \"column\": \"5\", \"row\": \"12\", \"path\": \"/Users/haascp/Documents/GitHub/mocca/notebooks/cyanation_data/09072021_sample_63.txt\", \"conversion\": 0.3635674372530511, \"yield\": 19.0}, {\"2-chlorotoluene\": 0.04894999865446238, \"o-tolunitrile\": 0.010823787928971328, \"tetralin\": 60262.28277461242, \"column\": \"6\", \"row\": \"1\", \"path\": \"/Users/haascp/Documents/GitHub/mocca/notebooks/cyanation_data/09072021_sample_64.txt\", \"conversion\": 0.1841666890922936, \"yield\": 18.0}, {\"2-chlorotoluene\": 0.05461801895001403, \"o-tolunitrile\": 0.004116379536453957, \"tetralin\": 59104.62455951531, \"column\": \"6\", \"row\": \"2\", \"path\": \"/Users/haascp/Documents/GitHub/mocca/notebooks/cyanation_data/09072021_sample_65.txt\", \"conversion\": 0.0896996841664328, \"yield\": 7.0}, {\"2-chlorotoluene\": 0.05755013930421987, \"o-tolunitrile\": 0.0, \"tetralin\": 74630.25243966542, \"column\": \"6\", \"row\": \"3\", \"path\": \"/Users/haascp/Documents/GitHub/mocca/notebooks/cyanation_data/09072021_sample_66.txt\", \"conversion\": 0.04083101159633544, \"yield\": 0.0}, {\"2-chlorotoluene\": 0.030183205647342948, \"o-tolunitrile\": 0.028202060723756736, \"tetralin\": 61413.0507332931, \"column\": \"6\", \"row\": \"4\", \"path\": \"/Users/haascp/Documents/GitHub/mocca/notebooks/cyanation_data/09072021_sample_67.txt\", \"conversion\": 0.4969465725442842, \"yield\": 47.0}, {\"2-chlorotoluene\": 0.039402993664060304, \"o-tolunitrile\": 0.01619785507804601, \"tetralin\": 58513.20011615709, \"column\": \"6\", \"row\": \"5\", \"path\": \"/Users/haascp/Documents/GitHub/mocca/notebooks/cyanation_data/09072021_sample_68.txt\", \"conversion\": 0.34328343893232827, \"yield\": 27.0}, {\"2-chlorotoluene\": 0.0, \"o-tolunitrile\": 0.04658936132678413, \"tetralin\": 61405.307841057285, \"column\": \"6\", \"row\": \"6\", \"path\": \"/Users/haascp/Documents/GitHub/mocca/notebooks/cyanation_data/09072021_sample_69.txt\", \"conversion\": 1.0, \"yield\": 78.0}, {\"2-chlorotoluene\": 0.006600052553886692, \"o-tolunitrile\": 0.05485650996745947, \"tetralin\": 76382.9729981712, \"column\": \"6\", \"row\": \"7\", \"path\": \"/Users/haascp/Documents/GitHub/mocca/notebooks/cyanation_data/09072021_sample_70.txt\", \"conversion\": 0.8899991241018884, \"yield\": 91.0}, {\"2-chlorotoluene\": 0.016283343617754353, \"o-tolunitrile\": 0.038208998871996955, \"tetralin\": 110346.6569380361, \"column\": \"6\", \"row\": \"8\", \"path\": \"/Users/haascp/Documents/GitHub/mocca/notebooks/cyanation_data/09072021_sample_71.txt\", \"conversion\": 0.7286109397040941, \"yield\": 64.0}, {\"2-chlorotoluene\": 0.053017281915532115, \"o-tolunitrile\": 0.0028809357116876527, \"tetralin\": 72201.4147846783, \"column\": \"6\", \"row\": \"9\", \"path\": \"/Users/haascp/Documents/GitHub/mocca/notebooks/cyanation_data/09072021_sample_72.txt\", \"conversion\": 0.11637863474113139, \"yield\": 5.0}, {\"2-chlorotoluene\": 0.04150549673080547, \"o-tolunitrile\": 0.004777099632573776, \"tetralin\": 95296.5658622265, \"column\": \"6\", \"row\": \"10\", \"path\": \"/Users/haascp/Documents/GitHub/mocca/notebooks/cyanation_data/09072021_sample_73.txt\", \"conversion\": 0.30824172115324217, \"yield\": 8.0}, {\"2-chlorotoluene\": 0.026772080768934097, \"o-tolunitrile\": 0.0052690414878925245, \"tetralin\": 212290.46142953623, \"column\": \"6\", \"row\": \"11\", \"path\": \"/Users/haascp/Documents/GitHub/mocca/notebooks/cyanation_data/09072021_sample_74.txt\", \"conversion\": 0.5537986538510983, \"yield\": 9.0}, {\"2-chlorotoluene\": 0.04188697784258272, \"o-tolunitrile\": 0.0062061036417377915, \"tetralin\": 61092.4896644328, \"column\": \"6\", \"row\": \"12\", \"path\": \"/Users/haascp/Documents/GitHub/mocca/notebooks/cyanation_data/09072021_sample_75.txt\", \"conversion\": 0.30188370262362135, \"yield\": 10.0}, {\"2-chlorotoluene\": 0.05790591611302568, \"o-tolunitrile\": 0.0, \"tetralin\": 62673.54595426069, \"column\": \"7\", \"row\": \"1\", \"path\": \"/Users/haascp/Documents/GitHub/mocca/notebooks/cyanation_data/09072021_sample_76.txt\", \"conversion\": 0.034901398116238616, \"yield\": 0.0}, {\"2-chlorotoluene\": 0.05715306849275374, \"o-tolunitrile\": 0.0, \"tetralin\": 86691.66529130496, \"column\": \"7\", \"row\": \"2\", \"path\": \"/Users/haascp/Documents/GitHub/mocca/notebooks/cyanation_data/09072021_sample_77.txt\", \"conversion\": 0.047448858454104265, \"yield\": 0.0}, {\"2-chlorotoluene\": 0.056026438932671084, \"o-tolunitrile\": 0.0, \"tetralin\": 75628.74299986962, \"column\": \"7\", \"row\": \"3\", \"path\": \"/Users/haascp/Documents/GitHub/mocca/notebooks/cyanation_data/09072021_sample_78.txt\", \"conversion\": 0.06622601778881523, \"yield\": 0.0}, {\"2-chlorotoluene\": 0.05852644383902375, \"o-tolunitrile\": 0.0, \"tetralin\": 61116.61172682796, \"column\": \"7\", \"row\": \"4\", \"path\": \"/Users/haascp/Documents/GitHub/mocca/notebooks/cyanation_data/09072021_sample_79.txt\", \"conversion\": 0.024559269349604118, \"yield\": 0.0}, {\"2-chlorotoluene\": 0.06153249032954868, \"o-tolunitrile\": 0.0, \"tetralin\": 56555.241780019904, \"column\": \"7\", \"row\": \"5\", \"path\": \"/Users/haascp/Documents/GitHub/mocca/notebooks/cyanation_data/09072021_sample_80.txt\", \"conversion\": -0.025541505492478075, \"yield\": 0.0}, {\"2-chlorotoluene\": 0.061801237489385055, \"o-tolunitrile\": 0.0, \"tetralin\": 63510.21877278634, \"column\": \"7\", \"row\": \"6\", \"path\": \"/Users/haascp/Documents/GitHub/mocca/notebooks/cyanation_data/09072021_sample_81.txt\", \"conversion\": -0.03002062482308429, \"yield\": 0.0}, {\"2-chlorotoluene\": 0.04864174884973307, \"o-tolunitrile\": 0.0, \"tetralin\": 138724.89751918375, \"column\": \"7\", \"row\": \"7\", \"path\": \"/Users/haascp/Documents/GitHub/mocca/notebooks/cyanation_data/09072021_sample_82.txt\", \"conversion\": 0.1893041858377822, \"yield\": 0.0}, {\"2-chlorotoluene\": 0.05931458923543004, \"o-tolunitrile\": 0.0, \"tetralin\": 68634.19363153545, \"column\": \"7\", \"row\": \"8\", \"path\": \"/Users/haascp/Documents/GitHub/mocca/notebooks/cyanation_data/09072021_sample_83.txt\", \"conversion\": 0.011423512742832672, \"yield\": 0.0}, {\"2-chlorotoluene\": 0.05889834793507401, \"o-tolunitrile\": 0.0, \"tetralin\": 77854.30844414949, \"column\": \"7\", \"row\": \"9\", \"path\": \"/Users/haascp/Documents/GitHub/mocca/notebooks/cyanation_data/09072021_sample_84.txt\", \"conversion\": 0.018360867748766496, \"yield\": 0.0}, {\"2-chlorotoluene\": 0.04435288779184739, \"o-tolunitrile\": 0.0, \"tetralin\": 163417.83853329546, \"column\": \"7\", \"row\": \"10\", \"path\": \"/Users/haascp/Documents/GitHub/mocca/notebooks/cyanation_data/09072021_sample_85.txt\", \"conversion\": 0.2607852034692102, \"yield\": 0.0}, {\"2-chlorotoluene\": 0.05297623308094078, \"o-tolunitrile\": 0.0, \"tetralin\": 64657.70897228052, \"column\": \"7\", \"row\": \"11\", \"path\": \"/Users/haascp/Documents/GitHub/mocca/notebooks/cyanation_data/09072021_sample_86.txt\", \"conversion\": 0.11706278198432031, \"yield\": 0.0}, {\"2-chlorotoluene\": 0.05835273436687371, \"o-tolunitrile\": 0.0, \"tetralin\": 75710.39112207551, \"column\": \"7\", \"row\": \"12\", \"path\": \"/Users/haascp/Documents/GitHub/mocca/notebooks/cyanation_data/09072021_sample_87.txt\", \"conversion\": 0.02745442721877149, \"yield\": 0.0}]}}, {\"mode\": \"vega-lite\"});\n",
       "</script>"
      ],
      "text/plain": [
       "alt.LayerChart(...)"
      ]
     },
     "metadata": {},
     "output_type": "display_data"
    }
   ],
   "source": [
    "results_rounded = results_df\n",
    "results_rounded['yield'] = results_rounded['yield'] * 100\n",
    "results_rounded = results_rounded.round({'yield': 0})\n",
    "#display(results_rounded['yield'])\n",
    "\n",
    "heatmap = alt.Chart(results_rounded, title = 'Yield').mark_rect().encode(\n",
    "            x=alt.X('row', sort=row_order),\n",
    "            y=alt.Y('column'),\n",
    "            color=alt.Color('yield', title=\"Yield\")\n",
    "            )\n",
    "text = alt.Chart(results_rounded, title = 'Yield').mark_text().encode(\n",
    "            x=alt.X('row', sort=row_order),\n",
    "            y=alt.Y('column'),\n",
    "            text='yield'\n",
    "            )\n",
    "\n",
    "display(heatmap + text)"
   ]
  },
  {
   "cell_type": "code",
   "execution_count": null,
   "id": "337a5023-f756-4047-8bc7-63489f69792c",
   "metadata": {},
   "outputs": [],
   "source": []
  }
 ],
 "metadata": {
  "kernelspec": {
   "display_name": "mocca_env",
   "language": "python",
   "name": "mocca_env"
  },
  "language_info": {
   "codemirror_mode": {
    "name": "ipython",
    "version": 3
   },
   "file_extension": ".py",
   "mimetype": "text/x-python",
   "name": "python",
   "nbconvert_exporter": "python",
   "pygments_lexer": "ipython3",
   "version": "3.10.2"
  }
 },
 "nbformat": 4,
 "nbformat_minor": 5
}
