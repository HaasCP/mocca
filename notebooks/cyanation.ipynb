{
 "cells": [
  {
   "cell_type": "markdown",
   "id": "c70bf775-82ac-4c3c-a1b5-23af5ec8fb3f",
   "metadata": {},
   "source": [
    "CPH 02/04/2022"
   ]
  },
  {
   "cell_type": "markdown",
   "id": "6a58324c-8e7a-44ca-9f39-dc6563ce81b0",
   "metadata": {
    "tags": []
   },
   "source": [
    "# MOCCA data analysis on cyanation wellplate screening\n",
    "\n",
    "MOCCA is a tool for the analysis of *High-Performance Liquid Chromatography–Diode Array Detection* (HPLC–DAD) datasets which are recorded in the context of reaction (process) controls. It only uses HPLC–DAD raw data and some basic user input for the data analysis."
   ]
  },
  {
   "cell_type": "markdown",
   "id": "c9d2a04c-52f8-4e3f-bd9e-8a80fcee0302",
   "metadata": {},
   "source": [
    "## Reaction and case study background\n",
    "\n",
    "This case study investigates a screening of discrete reaction parameters on a well plate. The chosen reaction is a palladium-catalyzed cyanation of 2-chlorotoluene yielding o-tolunitrile. We investigate the reaction with seven different cyanide precursors (protected cyanohydrines), four different bases and three different ligands."
   ]
  },
  {
   "cell_type": "markdown",
   "id": "14bcad8c-907f-45e8-b0a6-8bb1b4f61865",
   "metadata": {},
   "source": [
    "## Imports"
   ]
  },
  {
   "cell_type": "code",
   "execution_count": 1,
   "id": "ff1b1321-02b7-4ffa-9bfd-76556f076ad0",
   "metadata": {},
   "outputs": [],
   "source": [
    "# folders handling\n",
    "import os\n",
    "from glob import glob\n",
    "\n",
    "# user interaction\n",
    "from mocca.user_interaction.campaign import HplcDadCampaign\n",
    "from mocca.user_interaction.user_objects import Gradient\n",
    "from mocca.user_interaction.user_objects import Compound\n",
    "from mocca.user_interaction.user_objects import InternalStandard\n",
    "from mocca.user_interaction.user_objects import HplcInput\n",
    "from mocca.user_interaction.settings import Settings\n",
    "\n",
    "# customized data analysis\n",
    "import datetime\n",
    "import time\n",
    "\n",
    "%load_ext autoreload\n",
    "%autoreload 2"
   ]
  },
  {
   "cell_type": "markdown",
   "id": "66d85391-6b55-4309-9bfa-ccb97e84b8f9",
   "metadata": {},
   "source": [
    "## Cyanation data folder handling\n",
    "\n",
    "The data corresponding to this notebook can be found in mocca -> notebooks -> cyanation_data. The data was recorded on an Shimadzu system with an automatic export of the raw data to a .txt file."
   ]
  },
  {
   "cell_type": "code",
   "execution_count": 2,
   "id": "aa9e56ae-7937-44cb-939e-ebec3bf4ccc7",
   "metadata": {},
   "outputs": [],
   "source": [
    "# get path of this notebook\n",
    "ipynb_path = os.path.dirname(os.path.realpath(\"__file__\"))\n",
    "\n",
    "# add the path to the test data folder\n",
    "cyan_data_path = os.path.join(ipynb_path, \"cyanation_data\")\n",
    "\n",
    "# find all folders containing Agilent HPLC data (.D file extension)\n",
    "folders = glob(cyan_data_path + '/*' + '.txt') \n",
    "folders = sorted(folders, key=lambda x: int(x.split('_')[-1][:-4]))"
   ]
  },
  {
   "cell_type": "code",
   "execution_count": 3,
   "id": "36a5d434-f4d2-46bb-acd1-4a7d484dbd8d",
   "metadata": {
    "tags": []
   },
   "outputs": [
    {
     "name": "stdout",
     "output_type": "stream",
     "text": [
      "09072021_sample_4.txt\n",
      "09072021_sample_5.txt\n",
      "09072021_sample_6.txt\n",
      "09072021_sample_7.txt\n",
      "09072021_sample_8.txt\n",
      "09072021_sample_9.txt\n",
      "09072021_sample_10.txt\n",
      "09072021_sample_11.txt\n",
      "09072021_sample_12.txt\n",
      "09072021_sample_13.txt\n",
      "09072021_sample_14.txt\n",
      "09072021_sample_15.txt\n",
      "09072021_sample_16.txt\n",
      "09072021_sample_17.txt\n",
      "09072021_sample_18.txt\n",
      "09072021_sample_19.txt\n",
      "09072021_sample_20.txt\n",
      "09072021_sample_21.txt\n",
      "09072021_sample_22.txt\n",
      "09072021_sample_23.txt\n",
      "09072021_sample_24.txt\n",
      "09072021_sample_25.txt\n",
      "09072021_sample_26.txt\n",
      "09072021_sample_27.txt\n",
      "09072021_sample_28.txt\n",
      "09072021_sample_29.txt\n",
      "09072021_sample_30.txt\n",
      "09072021_sample_31.txt\n",
      "09072021_sample_32.txt\n",
      "09072021_sample_33.txt\n",
      "09072021_sample_34.txt\n",
      "09072021_sample_35.txt\n",
      "09072021_sample_36.txt\n",
      "09072021_sample_37.txt\n",
      "09072021_sample_38.txt\n",
      "09072021_sample_39.txt\n",
      "09072021_sample_40.txt\n",
      "09072021_sample_41.txt\n",
      "09072021_sample_42.txt\n",
      "09072021_sample_43.txt\n",
      "09072021_sample_44.txt\n",
      "09072021_sample_45.txt\n",
      "09072021_sample_46.txt\n",
      "09072021_sample_47.txt\n",
      "09072021_sample_48.txt\n",
      "09072021_sample_49.txt\n",
      "09072021_sample_50.txt\n",
      "09072021_sample_51.txt\n",
      "09072021_sample_52.txt\n",
      "09072021_sample_53.txt\n",
      "09072021_sample_54.txt\n",
      "09072021_sample_55.txt\n",
      "09072021_sample_56.txt\n",
      "09072021_sample_57.txt\n",
      "09072021_sample_58.txt\n",
      "09072021_sample_59.txt\n",
      "09072021_sample_60.txt\n",
      "09072021_sample_61.txt\n",
      "09072021_sample_62.txt\n",
      "09072021_sample_63.txt\n",
      "09072021_sample_64.txt\n",
      "09072021_sample_65.txt\n",
      "09072021_sample_66.txt\n",
      "09072021_sample_67.txt\n",
      "09072021_sample_68.txt\n",
      "09072021_sample_69.txt\n",
      "09072021_sample_70.txt\n",
      "09072021_sample_71.txt\n",
      "09072021_sample_72.txt\n",
      "09072021_sample_73.txt\n",
      "09072021_sample_74.txt\n",
      "09072021_sample_75.txt\n",
      "09072021_sample_76.txt\n",
      "09072021_sample_77.txt\n",
      "09072021_sample_78.txt\n",
      "09072021_sample_79.txt\n",
      "09072021_sample_80.txt\n",
      "09072021_sample_81.txt\n",
      "09072021_sample_82.txt\n",
      "09072021_sample_83.txt\n",
      "09072021_sample_84.txt\n",
      "09072021_sample_85.txt\n",
      "09072021_sample_86.txt\n",
      "09072021_sample_87.txt\n",
      "09072021_educt_88.txt\n",
      "09072021_educt_89.txt\n",
      "09072021_product_92.txt\n",
      "09072021_product_93.txt\n",
      "09072021_istd_96.txt\n",
      "09072021_gradient_97.txt\n",
      "09072021_cnsource_a_98.txt\n",
      "09072021_cnsource_d_99.txt\n"
     ]
    }
   ],
   "source": [
    "for folder in folders:\n",
    "    print(os.path.basename(folder))"
   ]
  },
  {
   "cell_type": "markdown",
   "id": "6565c466-5b8e-4184-859c-3584e6e02be7",
   "metadata": {},
   "source": [
    "## Campaign initialization"
   ]
  },
  {
   "cell_type": "code",
   "execution_count": 4,
   "id": "7a483960-60d8-434a-bb79-13e74b5117c2",
   "metadata": {},
   "outputs": [],
   "source": [
    "cyan_campaign = HplcDadCampaign()"
   ]
  },
  {
   "cell_type": "markdown",
   "id": "e5297ebc-aaa7-4ed8-ac2c-37728cc14328",
   "metadata": {},
   "source": [
    "We create the first Gradient object for all runs."
   ]
  },
  {
   "cell_type": "code",
   "execution_count": 5,
   "id": "2527d2cb-25da-43d7-9f24-7a03dc5ec365",
   "metadata": {},
   "outputs": [],
   "source": [
    "gradient = Gradient(next(folder for folder in folders if \"gradient\" in folder))"
   ]
  },
  {
   "cell_type": "markdown",
   "id": "c8d66b7e-0da4-47d7-a1bf-67576d0bc31b",
   "metadata": {},
   "source": [
    "This campaign works in all runs (except the tetralin compound run) with an InternalStandard object of tetralin."
   ]
  },
  {
   "cell_type": "code",
   "execution_count": 6,
   "id": "ac449a8a-236b-4f53-8e2e-106f5bbe786f",
   "metadata": {},
   "outputs": [],
   "source": [
    "internal_standard = InternalStandard('tetralin', 0.06094)"
   ]
  },
  {
   "cell_type": "markdown",
   "id": "50e7d544-b812-48a5-8773-93d13c40aa02",
   "metadata": {
    "tags": []
   },
   "source": [
    "### User input for calibration runs"
   ]
  },
  {
   "cell_type": "markdown",
   "id": "0fd31d60-028d-49d9-bd2f-1f7df4134333",
   "metadata": {},
   "source": [
    "We transfer the concentration values of the calibration standards."
   ]
  },
  {
   "cell_type": "code",
   "execution_count": 7,
   "id": "4510a788-cdff-4ca1-900e-b1f9acfae57d",
   "metadata": {},
   "outputs": [],
   "source": [
    "ArCl_concs = [0.0603, 0.04422]\n",
    "ArCN_concs = [0.05955, 0.04367]"
   ]
  },
  {
   "cell_type": "markdown",
   "id": "f804c50d-c3d5-4a02-a661-56444dea86e5",
   "metadata": {},
   "source": [
    "First, we create a HplcInput object for the internal standard run and add it to the campaign."
   ]
  },
  {
   "cell_type": "code",
   "execution_count": 8,
   "id": "35b0dc6b-2db0-4415-bf18-d0f00325a310",
   "metadata": {},
   "outputs": [],
   "source": [
    "istd_run = HplcInput(next(folder for folder in folders if \"istd\" in folder),\n",
    "                     gradient, compound=Compound('tetralin', is_istd=True))\n",
    "cyan_campaign.add_hplc_input(istd_run)"
   ]
  },
  {
   "cell_type": "markdown",
   "id": "b8d9fa45-de83-4100-bc56-08c11b53b9f0",
   "metadata": {},
   "source": [
    "We create HplcInput objects for each calibration run and add it to the campaign"
   ]
  },
  {
   "cell_type": "code",
   "execution_count": 9,
   "id": "46cdc570-7118-4a4b-ab15-c29b2cdf6871",
   "metadata": {},
   "outputs": [],
   "source": [
    "ArCl_folders = [folder for folder in folders if \"educt\" in folder]\n",
    "for i, folder in enumerate(ArCl_folders):\n",
    "    compound = Compound('2-chlorotoluene', ArCl_concs[i])\n",
    "    exp = HplcInput(folder, gradient, compound=compound, istd=internal_standard)\n",
    "    cyan_campaign.add_hplc_input(exp)\n",
    "\n",
    "ArCN_folders = [folder for folder in folders if \"product\" in folder]\n",
    "for i, folder in enumerate(ArCN_folders):\n",
    "    compound = Compound('o-tolunitrile', ArCN_concs[i])\n",
    "    exp = HplcInput(folder, gradient, compound=compound, istd=internal_standard)\n",
    "    cyan_campaign.add_hplc_input(exp)\n",
    "\n",
    "cn_source_a_folder = next(folder for folder in folders if \"cnsource_a\" in folder)\n",
    "compound = Compound('cn_source_a')\n",
    "exp = HplcInput(cn_source_a_folder, gradient, compound=compound, istd=internal_standard)\n",
    "cyan_campaign.add_hplc_input(exp)\n",
    "\n",
    "cn_source_d_folder = next(folder for folder in folders if \"cnsource_d\" in folder)\n",
    "compound = Compound('cn_source_d')\n",
    "exp = HplcInput(cn_source_d_folder, gradient, compound=compound, istd=internal_standard)\n",
    "cyan_campaign.add_hplc_input(exp)"
   ]
  },
  {
   "cell_type": "markdown",
   "id": "68b9b038-7401-4e8d-8e46-252d1586c6a8",
   "metadata": {},
   "source": [
    "### User input for reaction runs"
   ]
  },
  {
   "cell_type": "code",
   "execution_count": 10,
   "id": "b9116a48-8575-435f-8d1c-6db568c059c0",
   "metadata": {},
   "outputs": [],
   "source": [
    "for folder in [folder for folder in folders if \"sample\" in folder]:\n",
    "    exp = HplcInput(folder, gradient, istd=internal_standard)\n",
    "    cyan_campaign.add_hplc_input(exp)"
   ]
  },
  {
   "cell_type": "markdown",
   "id": "87a70e0f-4b65-4f64-a2b2-051f1ae58247",
   "metadata": {},
   "source": [
    "### Settings for data processing"
   ]
  },
  {
   "cell_type": "code",
   "execution_count": 11,
   "id": "d3e8aea8-f5c8-45e4-bb75-e3d19d50befc",
   "metadata": {},
   "outputs": [],
   "source": [
    "settings = Settings('labsolutions',\n",
    "                    absorbance_threshold = 500, wl_high_pass = 215, \n",
    "                    peaks_high_pass = 1, peaks_low_pass = 5,\n",
    "                    spectrum_correl_thresh=0.99, relative_distance_thresh=0.0025)"
   ]
  },
  {
   "cell_type": "markdown",
   "id": "926a0b31-e525-4574-8cea-38e39ca6b203",
   "metadata": {},
   "source": [
    "### Data processing"
   ]
  },
  {
   "cell_type": "code",
   "execution_count": 12,
   "id": "a7e53c99-166e-4fa6-a5ff-700216a1729c",
   "metadata": {
    "tags": []
   },
   "outputs": [
    {
     "name": "stdout",
     "output_type": "stream",
     "text": [
      "CPU times: user 1h 25min 46s, sys: 2min 2s, total: 1h 27min 49s\n",
      "Wall time: 11min 20s\n"
     ]
    }
   ],
   "source": [
    "%%time\n",
    "cyan_campaign.process_all_hplc_input(settings)"
   ]
  },
  {
   "cell_type": "markdown",
   "id": "876d7ceb-7e66-4050-9569-ff4c97f25e40",
   "metadata": {
    "tags": []
   },
   "source": [
    "## Reporting"
   ]
  },
  {
   "cell_type": "code",
   "execution_count": 13,
   "id": "edb947f0-278c-40ee-8347-b1efd5d9c35a",
   "metadata": {},
   "outputs": [],
   "source": [
    "cyan_report_path = os.path.join(ipynb_path, \"cyanation_reports\")"
   ]
  },
  {
   "cell_type": "code",
   "execution_count": 20,
   "id": "6fe1501d-f580-4ce6-bb64-3596de1374a1",
   "metadata": {},
   "outputs": [
    {
     "data": {
      "text/markdown": [
       "Report saved to .//Users/haascp/Documents/GitHub/mocca/notebooks/cyanation_reports/report_hplc_input.html. To upload and share your report, create a free Datapane account by running `!datapane signup`."
      ],
      "text/plain": [
       "<IPython.core.display.Markdown object>"
      ]
     },
     "metadata": {},
     "output_type": "display_data"
    },
    {
     "data": {
      "text/markdown": [
       "Report saved to .//Users/haascp/Documents/GitHub/mocca/notebooks/cyanation_reports/report_gradient.html. To upload and share your report, create a free Datapane account by running `!datapane signup`."
      ],
      "text/plain": [
       "<IPython.core.display.Markdown object>"
      ]
     },
     "metadata": {},
     "output_type": "display_data"
    },
    {
     "data": {
      "text/markdown": [
       "Report saved to .//Users/haascp/Documents/GitHub/mocca/notebooks/cyanation_reports/report_peak_db.html. To upload and share your report, create a free Datapane account by running `!datapane signup`."
      ],
      "text/plain": [
       "<IPython.core.display.Markdown object>"
      ]
     },
     "metadata": {},
     "output_type": "display_data"
    },
    {
     "data": {
      "text/markdown": [
       "Report saved to .//Users/haascp/Documents/GitHub/mocca/notebooks/cyanation_reports/report_chroms.html. To upload and share your report, create a free Datapane account by running `!datapane signup`."
      ],
      "text/plain": [
       "<IPython.core.display.Markdown object>"
      ]
     },
     "metadata": {},
     "output_type": "display_data"
    },
    {
     "data": {
      "text/markdown": [
       "How is your experience of Datapane? Please take two minutes to answer our anonymous product survey <a href='https://bit.ly/3lWjRlr' target='_blank'>here</a>"
      ],
      "text/plain": [
       "<IPython.core.display.Markdown object>"
      ]
     },
     "metadata": {},
     "output_type": "display_data"
    },
    {
     "name": "stdout",
     "output_type": "stream",
     "text": [
      "No chromatograms given or all chromatograms are good data!\n"
     ]
    },
    {
     "data": {
      "text/markdown": [
       "Report saved to .//Users/haascp/Documents/GitHub/mocca/notebooks/cyanation_reports/report_runs.html. To upload and share your report, create a free Datapane account by running `!datapane signup`."
      ],
      "text/plain": [
       "<IPython.core.display.Markdown object>"
      ]
     },
     "metadata": {},
     "output_type": "display_data"
    },
    {
     "data": {
      "text/markdown": [
       "Report saved to .//Users/haascp/Documents/GitHub/mocca/notebooks/cyanation_reports/report_parafac.html. To upload and share your report, create a free Datapane account by running `!datapane signup`."
      ],
      "text/plain": [
       "<IPython.core.display.Markdown object>"
      ]
     },
     "metadata": {},
     "output_type": "display_data"
    },
    {
     "data": {
      "text/markdown": [
       "Report saved to .//Users/haascp/Documents/GitHub/mocca/notebooks/cyanation_reports/report_quali_comp_db.html. To upload and share your report, create a free Datapane account by running `!datapane signup`."
      ],
      "text/plain": [
       "<IPython.core.display.Markdown object>"
      ]
     },
     "metadata": {},
     "output_type": "display_data"
    },
    {
     "data": {
      "text/markdown": [
       "Report saved to .//Users/haascp/Documents/GitHub/mocca/notebooks/cyanation_reports/report_quant_comp_db.html. To upload and share your report, create a free Datapane account by running `!datapane signup`."
      ],
      "text/plain": [
       "<IPython.core.display.Markdown object>"
      ]
     },
     "metadata": {},
     "output_type": "display_data"
    }
   ],
   "source": [
    "cyan_campaign.generate_reports(cyan_report_path)"
   ]
  },
  {
   "cell_type": "markdown",
   "id": "736881b0-4eb3-498b-963f-5ad938408879",
   "metadata": {},
   "source": [
    "## Customized data analysis by the user\n",
    "\n",
    "This data analysis tool cannot include all possible data analysis needs of potential users. Therefore, we expect the user to do customized data analysis independently from the tool.\n",
    "\n",
    "We give an example here, how the yield over a 96-wellplate can be visualized."
   ]
  },
  {
   "cell_type": "code",
   "execution_count": 15,
   "id": "c03317a8-b6c8-4c1b-8da7-ad7bad406a9e",
   "metadata": {},
   "outputs": [],
   "source": [
    "import pandas as pd\n",
    "import altair as alt"
   ]
  },
  {
   "cell_type": "markdown",
   "id": "df464ed7-1915-4052-9f64-02fe4ed42e91",
   "metadata": {},
   "source": [
    "Extract results out of the campaign object"
   ]
  },
  {
   "cell_type": "code",
   "execution_count": 16,
   "id": "f6374075-cd86-4289-9397-8b0e860f01ed",
   "metadata": {},
   "outputs": [],
   "source": [
    "c0 = 0.06 #c0 refers to the molar amount of substrate that was used\n",
    "results = {\n",
    "    '2-chlorotoluene': [],\n",
    "    'o-tolunitrile': [],\n",
    "    'tetralin': [],\n",
    "    'column': [],\n",
    "    'row': [],\n",
    "    'path': [],\n",
    "    'conversion': [],\n",
    "    'yield': []\n",
    "}\n",
    "for i, chrom in enumerate(cyan_campaign.chroms):\n",
    "    if not chrom.experiment.compound:\n",
    "        results['2-chlorotoluene'].append(0)\n",
    "        results['o-tolunitrile'].append(0)\n",
    "        results['tetralin'].append(0)\n",
    "        results['conversion'].append(1)\n",
    "        results['yield'].append(0)\n",
    "        results['path'].append(chrom.experiment.path)\n",
    "        for peak in chrom.peaks:\n",
    "            if peak.compound_id == '2-chlorotoluene':\n",
    "                results['2-chlorotoluene'][-1] = peak.concentration\n",
    "                results['conversion'][-1] = (c0 - peak.concentration) / c0\n",
    "            if peak.compound_id == 'o-tolunitrile':\n",
    "                results['o-tolunitrile'][-1] = peak.concentration\n",
    "                results['yield'][-1] = peak.concentration / c0\n",
    "            if peak.compound_id == 'tetralin':\n",
    "                results['tetralin'][-1] = peak.integral"
   ]
  },
  {
   "cell_type": "code",
   "execution_count": 17,
   "id": "52219090-5122-42e2-82a8-748a9b10452a",
   "metadata": {},
   "outputs": [],
   "source": [
    "for path in results['path']:\n",
    "    num = int(path.split('_')[-1][:-4]) - 4\n",
    "    results['column'].append(str(num // 12 + 1))\n",
    "    results['row'].append(str(num - (num // 12 * 12) + 1))"
   ]
  },
  {
   "cell_type": "code",
   "execution_count": 18,
   "id": "0507acec-7017-4e92-8c0e-e97bf8cbaa77",
   "metadata": {},
   "outputs": [
    {
     "data": {
      "text/html": [
       "<div>\n",
       "<style scoped>\n",
       "    .dataframe tbody tr th:only-of-type {\n",
       "        vertical-align: middle;\n",
       "    }\n",
       "\n",
       "    .dataframe tbody tr th {\n",
       "        vertical-align: top;\n",
       "    }\n",
       "\n",
       "    .dataframe thead th {\n",
       "        text-align: right;\n",
       "    }\n",
       "</style>\n",
       "<table border=\"1\" class=\"dataframe\">\n",
       "  <thead>\n",
       "    <tr style=\"text-align: right;\">\n",
       "      <th></th>\n",
       "      <th>2-chlorotoluene</th>\n",
       "      <th>o-tolunitrile</th>\n",
       "      <th>tetralin</th>\n",
       "      <th>column</th>\n",
       "      <th>row</th>\n",
       "      <th>path</th>\n",
       "      <th>conversion</th>\n",
       "      <th>yield</th>\n",
       "    </tr>\n",
       "  </thead>\n",
       "  <tbody>\n",
       "    <tr>\n",
       "      <th>0</th>\n",
       "      <td>0.031222</td>\n",
       "      <td>0.026152</td>\n",
       "      <td>72908.483002</td>\n",
       "      <td>1</td>\n",
       "      <td>1</td>\n",
       "      <td>/Users/haascp/Documents/GitHub/mocca/notebooks...</td>\n",
       "      <td>0.479633</td>\n",
       "      <td>0.435863</td>\n",
       "    </tr>\n",
       "    <tr>\n",
       "      <th>1</th>\n",
       "      <td>0.053005</td>\n",
       "      <td>0.003441</td>\n",
       "      <td>69100.487022</td>\n",
       "      <td>1</td>\n",
       "      <td>2</td>\n",
       "      <td>/Users/haascp/Documents/GitHub/mocca/notebooks...</td>\n",
       "      <td>0.116577</td>\n",
       "      <td>0.057354</td>\n",
       "    </tr>\n",
       "    <tr>\n",
       "      <th>2</th>\n",
       "      <td>0.056189</td>\n",
       "      <td>0.000000</td>\n",
       "      <td>66686.723268</td>\n",
       "      <td>1</td>\n",
       "      <td>3</td>\n",
       "      <td>/Users/haascp/Documents/GitHub/mocca/notebooks...</td>\n",
       "      <td>0.063519</td>\n",
       "      <td>0.000000</td>\n",
       "    </tr>\n",
       "    <tr>\n",
       "      <th>3</th>\n",
       "      <td>0.000000</td>\n",
       "      <td>0.040743</td>\n",
       "      <td>72699.519576</td>\n",
       "      <td>1</td>\n",
       "      <td>4</td>\n",
       "      <td>/Users/haascp/Documents/GitHub/mocca/notebooks...</td>\n",
       "      <td>1.000000</td>\n",
       "      <td>0.679048</td>\n",
       "    </tr>\n",
       "    <tr>\n",
       "      <th>4</th>\n",
       "      <td>0.000000</td>\n",
       "      <td>0.029075</td>\n",
       "      <td>66779.207989</td>\n",
       "      <td>1</td>\n",
       "      <td>5</td>\n",
       "      <td>/Users/haascp/Documents/GitHub/mocca/notebooks...</td>\n",
       "      <td>1.000000</td>\n",
       "      <td>0.484581</td>\n",
       "    </tr>\n",
       "    <tr>\n",
       "      <th>...</th>\n",
       "      <td>...</td>\n",
       "      <td>...</td>\n",
       "      <td>...</td>\n",
       "      <td>...</td>\n",
       "      <td>...</td>\n",
       "      <td>...</td>\n",
       "      <td>...</td>\n",
       "      <td>...</td>\n",
       "    </tr>\n",
       "    <tr>\n",
       "      <th>79</th>\n",
       "      <td>0.059307</td>\n",
       "      <td>0.000000</td>\n",
       "      <td>68115.138325</td>\n",
       "      <td>7</td>\n",
       "      <td>8</td>\n",
       "      <td>/Users/haascp/Documents/GitHub/mocca/notebooks...</td>\n",
       "      <td>0.011549</td>\n",
       "      <td>0.000000</td>\n",
       "    </tr>\n",
       "    <tr>\n",
       "      <th>80</th>\n",
       "      <td>0.059044</td>\n",
       "      <td>0.000000</td>\n",
       "      <td>77373.684722</td>\n",
       "      <td>7</td>\n",
       "      <td>9</td>\n",
       "      <td>/Users/haascp/Documents/GitHub/mocca/notebooks...</td>\n",
       "      <td>0.015931</td>\n",
       "      <td>0.000000</td>\n",
       "    </tr>\n",
       "    <tr>\n",
       "      <th>81</th>\n",
       "      <td>0.044454</td>\n",
       "      <td>0.000000</td>\n",
       "      <td>162296.594456</td>\n",
       "      <td>7</td>\n",
       "      <td>10</td>\n",
       "      <td>/Users/haascp/Documents/GitHub/mocca/notebooks...</td>\n",
       "      <td>0.259098</td>\n",
       "      <td>0.000000</td>\n",
       "    </tr>\n",
       "    <tr>\n",
       "      <th>82</th>\n",
       "      <td>0.052634</td>\n",
       "      <td>0.000000</td>\n",
       "      <td>64807.098114</td>\n",
       "      <td>7</td>\n",
       "      <td>11</td>\n",
       "      <td>/Users/haascp/Documents/GitHub/mocca/notebooks...</td>\n",
       "      <td>0.122758</td>\n",
       "      <td>0.000000</td>\n",
       "    </tr>\n",
       "    <tr>\n",
       "      <th>83</th>\n",
       "      <td>0.058386</td>\n",
       "      <td>0.000000</td>\n",
       "      <td>75707.960403</td>\n",
       "      <td>7</td>\n",
       "      <td>12</td>\n",
       "      <td>/Users/haascp/Documents/GitHub/mocca/notebooks...</td>\n",
       "      <td>0.026896</td>\n",
       "      <td>0.000000</td>\n",
       "    </tr>\n",
       "  </tbody>\n",
       "</table>\n",
       "<p>84 rows × 8 columns</p>\n",
       "</div>"
      ],
      "text/plain": [
       "    2-chlorotoluene  o-tolunitrile       tetralin column row  \\\n",
       "0          0.031222       0.026152   72908.483002      1   1   \n",
       "1          0.053005       0.003441   69100.487022      1   2   \n",
       "2          0.056189       0.000000   66686.723268      1   3   \n",
       "3          0.000000       0.040743   72699.519576      1   4   \n",
       "4          0.000000       0.029075   66779.207989      1   5   \n",
       "..              ...            ...            ...    ...  ..   \n",
       "79         0.059307       0.000000   68115.138325      7   8   \n",
       "80         0.059044       0.000000   77373.684722      7   9   \n",
       "81         0.044454       0.000000  162296.594456      7  10   \n",
       "82         0.052634       0.000000   64807.098114      7  11   \n",
       "83         0.058386       0.000000   75707.960403      7  12   \n",
       "\n",
       "                                                 path  conversion     yield  \n",
       "0   /Users/haascp/Documents/GitHub/mocca/notebooks...    0.479633  0.435863  \n",
       "1   /Users/haascp/Documents/GitHub/mocca/notebooks...    0.116577  0.057354  \n",
       "2   /Users/haascp/Documents/GitHub/mocca/notebooks...    0.063519  0.000000  \n",
       "3   /Users/haascp/Documents/GitHub/mocca/notebooks...    1.000000  0.679048  \n",
       "4   /Users/haascp/Documents/GitHub/mocca/notebooks...    1.000000  0.484581  \n",
       "..                                                ...         ...       ...  \n",
       "79  /Users/haascp/Documents/GitHub/mocca/notebooks...    0.011549  0.000000  \n",
       "80  /Users/haascp/Documents/GitHub/mocca/notebooks...    0.015931  0.000000  \n",
       "81  /Users/haascp/Documents/GitHub/mocca/notebooks...    0.259098  0.000000  \n",
       "82  /Users/haascp/Documents/GitHub/mocca/notebooks...    0.122758  0.000000  \n",
       "83  /Users/haascp/Documents/GitHub/mocca/notebooks...    0.026896  0.000000  \n",
       "\n",
       "[84 rows x 8 columns]"
      ]
     },
     "execution_count": 18,
     "metadata": {},
     "output_type": "execute_result"
    }
   ],
   "source": [
    "results_df = pd.DataFrame(results)\n",
    "row_order = [str(val) for val in list(range(1, 13))]\n",
    "results_df"
   ]
  },
  {
   "cell_type": "code",
   "execution_count": 19,
   "id": "944771b5-708c-48c5-9f70-9ff43b417cc3",
   "metadata": {
    "tags": []
   },
   "outputs": [
    {
     "data": {
      "text/html": [
       "\n",
       "<div id=\"altair-viz-c3d2a27e56a744ea9f890b8c3f0dbdd0\"></div>\n",
       "<script type=\"text/javascript\">\n",
       "  var VEGA_DEBUG = (typeof VEGA_DEBUG == \"undefined\") ? {} : VEGA_DEBUG;\n",
       "  (function(spec, embedOpt){\n",
       "    let outputDiv = document.currentScript.previousElementSibling;\n",
       "    if (outputDiv.id !== \"altair-viz-c3d2a27e56a744ea9f890b8c3f0dbdd0\") {\n",
       "      outputDiv = document.getElementById(\"altair-viz-c3d2a27e56a744ea9f890b8c3f0dbdd0\");\n",
       "    }\n",
       "    const paths = {\n",
       "      \"vega\": \"https://cdn.jsdelivr.net/npm//vega@5?noext\",\n",
       "      \"vega-lib\": \"https://cdn.jsdelivr.net/npm//vega-lib?noext\",\n",
       "      \"vega-lite\": \"https://cdn.jsdelivr.net/npm//vega-lite@4.17.0?noext\",\n",
       "      \"vega-embed\": \"https://cdn.jsdelivr.net/npm//vega-embed@6?noext\",\n",
       "    };\n",
       "\n",
       "    function maybeLoadScript(lib, version) {\n",
       "      var key = `${lib.replace(\"-\", \"\")}_version`;\n",
       "      return (VEGA_DEBUG[key] == version) ?\n",
       "        Promise.resolve(paths[lib]) :\n",
       "        new Promise(function(resolve, reject) {\n",
       "          var s = document.createElement('script');\n",
       "          document.getElementsByTagName(\"head\")[0].appendChild(s);\n",
       "          s.async = true;\n",
       "          s.onload = () => {\n",
       "            VEGA_DEBUG[key] = version;\n",
       "            return resolve(paths[lib]);\n",
       "          };\n",
       "          s.onerror = () => reject(`Error loading script: ${paths[lib]}`);\n",
       "          s.src = paths[lib];\n",
       "        });\n",
       "    }\n",
       "\n",
       "    function showError(err) {\n",
       "      outputDiv.innerHTML = `<div class=\"error\" style=\"color:red;\">${err}</div>`;\n",
       "      throw err;\n",
       "    }\n",
       "\n",
       "    function displayChart(vegaEmbed) {\n",
       "      vegaEmbed(outputDiv, spec, embedOpt)\n",
       "        .catch(err => showError(`Javascript Error: ${err.message}<br>This usually means there's a typo in your chart specification. See the javascript console for the full traceback.`));\n",
       "    }\n",
       "\n",
       "    if(typeof define === \"function\" && define.amd) {\n",
       "      requirejs.config({paths});\n",
       "      require([\"vega-embed\"], displayChart, err => showError(`Error loading script: ${err.message}`));\n",
       "    } else {\n",
       "      maybeLoadScript(\"vega\", \"5\")\n",
       "        .then(() => maybeLoadScript(\"vega-lite\", \"4.17.0\"))\n",
       "        .then(() => maybeLoadScript(\"vega-embed\", \"6\"))\n",
       "        .catch(showError)\n",
       "        .then(() => displayChart(vegaEmbed));\n",
       "    }\n",
       "  })({\"config\": {\"view\": {\"continuousWidth\": 400, \"continuousHeight\": 300}}, \"layer\": [{\"mark\": \"rect\", \"encoding\": {\"color\": {\"field\": \"yield\", \"title\": \"Yield\", \"type\": \"quantitative\"}, \"x\": {\"field\": \"row\", \"sort\": [\"1\", \"2\", \"3\", \"4\", \"5\", \"6\", \"7\", \"8\", \"9\", \"10\", \"11\", \"12\"], \"type\": \"nominal\"}, \"y\": {\"field\": \"column\", \"type\": \"nominal\"}}, \"title\": \"Yield\"}, {\"mark\": \"text\", \"encoding\": {\"text\": {\"field\": \"yield\", \"type\": \"quantitative\"}, \"x\": {\"field\": \"row\", \"sort\": [\"1\", \"2\", \"3\", \"4\", \"5\", \"6\", \"7\", \"8\", \"9\", \"10\", \"11\", \"12\"], \"type\": \"nominal\"}, \"y\": {\"field\": \"column\", \"type\": \"nominal\"}}, \"title\": \"Yield\"}], \"data\": {\"name\": \"data-db4254fe6f0ae4e57b9269cac3460e44\"}, \"$schema\": \"https://vega.github.io/schema/vega-lite/v4.17.0.json\", \"datasets\": {\"data-db4254fe6f0ae4e57b9269cac3460e44\": [{\"2-chlorotoluene\": 0.031222044401670056, \"o-tolunitrile\": 0.026151806740504706, \"tetralin\": 72908.48300241049, \"column\": \"1\", \"row\": \"1\", \"path\": \"/Users/haascp/Documents/GitHub/mocca/notebooks/cyanation_data/09072021_sample_4.txt\", \"conversion\": 0.47963259330549907, \"yield\": 44.0}, {\"2-chlorotoluene\": 0.05300538557047282, \"o-tolunitrile\": 0.003441229229868235, \"tetralin\": 69100.48702192299, \"column\": \"1\", \"row\": \"2\", \"path\": \"/Users/haascp/Documents/GitHub/mocca/notebooks/cyanation_data/09072021_sample_5.txt\", \"conversion\": 0.11657690715878635, \"yield\": 6.0}, {\"2-chlorotoluene\": 0.0561888370318996, \"o-tolunitrile\": 0.0, \"tetralin\": 66686.72326787838, \"column\": \"1\", \"row\": \"3\", \"path\": \"/Users/haascp/Documents/GitHub/mocca/notebooks/cyanation_data/09072021_sample_6.txt\", \"conversion\": 0.06351938280167331, \"yield\": 0.0}, {\"2-chlorotoluene\": 0.0, \"o-tolunitrile\": 0.040742875680791754, \"tetralin\": 72699.51957631018, \"column\": \"1\", \"row\": \"4\", \"path\": \"/Users/haascp/Documents/GitHub/mocca/notebooks/cyanation_data/09072021_sample_7.txt\", \"conversion\": 1.0, \"yield\": 68.0}, {\"2-chlorotoluene\": 0.0, \"o-tolunitrile\": 0.02907487970414816, \"tetralin\": 66779.20798872825, \"column\": \"1\", \"row\": \"5\", \"path\": \"/Users/haascp/Documents/GitHub/mocca/notebooks/cyanation_data/09072021_sample_8.txt\", \"conversion\": 1.0, \"yield\": 48.0}, {\"2-chlorotoluene\": 0.0, \"o-tolunitrile\": 0.04978382152149937, \"tetralin\": 75273.91454742779, \"column\": \"1\", \"row\": \"6\", \"path\": \"/Users/haascp/Documents/GitHub/mocca/notebooks/cyanation_data/09072021_sample_9.txt\", \"conversion\": 1.0, \"yield\": 83.0}, {\"2-chlorotoluene\": 0.040027370461506576, \"o-tolunitrile\": 0.009335076159344865, \"tetralin\": 93317.22402052728, \"column\": \"1\", \"row\": \"7\", \"path\": \"/Users/haascp/Documents/GitHub/mocca/notebooks/cyanation_data/09072021_sample_10.txt\", \"conversion\": 0.3328771589748904, \"yield\": 16.0}, {\"2-chlorotoluene\": 0.04963569043098044, \"o-tolunitrile\": 0.0040249773362683065, \"tetralin\": 59195.52127655005, \"column\": \"1\", \"row\": \"8\", \"path\": \"/Users/haascp/Documents/GitHub/mocca/notebooks/cyanation_data/09072021_sample_11.txt\", \"conversion\": 0.1727384928169926, \"yield\": 7.0}, {\"2-chlorotoluene\": 0.04679809310302932, \"o-tolunitrile\": 0.008247484016746118, \"tetralin\": 65566.6761292064, \"column\": \"1\", \"row\": \"9\", \"path\": \"/Users/haascp/Documents/GitHub/mocca/notebooks/cyanation_data/09072021_sample_12.txt\", \"conversion\": 0.22003178161617798, \"yield\": 14.0}, {\"2-chlorotoluene\": 0.047898846614315004, \"o-tolunitrile\": 0.0, \"tetralin\": 64291.85538551569, \"column\": \"1\", \"row\": \"10\", \"path\": \"/Users/haascp/Documents/GitHub/mocca/notebooks/cyanation_data/09072021_sample_13.txt\", \"conversion\": 0.20168588976141658, \"yield\": 0.0}, {\"2-chlorotoluene\": 0.0462826438423248, \"o-tolunitrile\": 0.0, \"tetralin\": 62540.35804206262, \"column\": \"1\", \"row\": \"11\", \"path\": \"/Users/haascp/Documents/GitHub/mocca/notebooks/cyanation_data/09072021_sample_14.txt\", \"conversion\": 0.22862260262792, \"yield\": 0.0}, {\"2-chlorotoluene\": 0.04832480295777249, \"o-tolunitrile\": 0.0, \"tetralin\": 60386.5716527255, \"column\": \"1\", \"row\": \"12\", \"path\": \"/Users/haascp/Documents/GitHub/mocca/notebooks/cyanation_data/09072021_sample_15.txt\", \"conversion\": 0.1945866173704584, \"yield\": 0.0}, {\"2-chlorotoluene\": 0.058895093982662315, \"o-tolunitrile\": 0.0, \"tetralin\": 69097.69897907929, \"column\": \"2\", \"row\": \"1\", \"path\": \"/Users/haascp/Documents/GitHub/mocca/notebooks/cyanation_data/09072021_sample_16.txt\", \"conversion\": 0.01841510028896138, \"yield\": 0.0}, {\"2-chlorotoluene\": 0.05758844976813477, \"o-tolunitrile\": 0.0013894698047466625, \"tetralin\": 62911.60609993883, \"column\": \"2\", \"row\": \"2\", \"path\": \"/Users/haascp/Documents/GitHub/mocca/notebooks/cyanation_data/09072021_sample_17.txt\", \"conversion\": 0.04019250386442045, \"yield\": 2.0}, {\"2-chlorotoluene\": 0.057195283306379636, \"o-tolunitrile\": 0.0, \"tetralin\": 67542.44626014732, \"column\": \"2\", \"row\": \"3\", \"path\": \"/Users/haascp/Documents/GitHub/mocca/notebooks/cyanation_data/09072021_sample_18.txt\", \"conversion\": 0.046745278227006026, \"yield\": 0.0}, {\"2-chlorotoluene\": 0.05577325989928699, \"o-tolunitrile\": 0.0012982587629038402, \"tetralin\": 67719.24154393394, \"column\": \"2\", \"row\": \"4\", \"path\": \"/Users/haascp/Documents/GitHub/mocca/notebooks/cyanation_data/09072021_sample_19.txt\", \"conversion\": 0.07044566834521679, \"yield\": 2.0}, {\"2-chlorotoluene\": 0.05696151962889688, \"o-tolunitrile\": 0.002915591487434434, \"tetralin\": 60568.34020092539, \"column\": \"2\", \"row\": \"5\", \"path\": \"/Users/haascp/Documents/GitHub/mocca/notebooks/cyanation_data/09072021_sample_20.txt\", \"conversion\": 0.05064133951838528, \"yield\": 5.0}, {\"2-chlorotoluene\": 0.060197104243224914, \"o-tolunitrile\": 0.0, \"tetralin\": 62220.019111583635, \"column\": \"2\", \"row\": \"6\", \"path\": \"/Users/haascp/Documents/GitHub/mocca/notebooks/cyanation_data/09072021_sample_21.txt\", \"conversion\": -0.003285070720415266, \"yield\": 0.0}, {\"2-chlorotoluene\": 0.047912644710848294, \"o-tolunitrile\": 0.014378260363068223, \"tetralin\": 63779.63629666631, \"column\": \"2\", \"row\": \"7\", \"path\": \"/Users/haascp/Documents/GitHub/mocca/notebooks/cyanation_data/09072021_sample_22.txt\", \"conversion\": 0.20145592148586172, \"yield\": 24.0}, {\"2-chlorotoluene\": 0.04997521648415056, \"o-tolunitrile\": 0.006924979698571215, \"tetralin\": 59392.73442999966, \"column\": \"2\", \"row\": \"8\", \"path\": \"/Users/haascp/Documents/GitHub/mocca/notebooks/cyanation_data/09072021_sample_23.txt\", \"conversion\": 0.16707972526415726, \"yield\": 12.0}, {\"2-chlorotoluene\": 0.04448981560721213, \"o-tolunitrile\": 0.012765034695560515, \"tetralin\": 60456.421830984065, \"column\": \"2\", \"row\": \"9\", \"path\": \"/Users/haascp/Documents/GitHub/mocca/notebooks/cyanation_data/09072021_sample_24.txt\", \"conversion\": 0.25850307321313115, \"yield\": 21.0}, {\"2-chlorotoluene\": 0.04360267008082426, \"o-tolunitrile\": 0.003387631716815157, \"tetralin\": 64169.03175805596, \"column\": \"2\", \"row\": \"10\", \"path\": \"/Users/haascp/Documents/GitHub/mocca/notebooks/cyanation_data/09072021_sample_25.txt\", \"conversion\": 0.2732888319862623, \"yield\": 6.0}, {\"2-chlorotoluene\": 0.038365099351593546, \"o-tolunitrile\": 0.0, \"tetralin\": 57692.56006412918, \"column\": \"2\", \"row\": \"11\", \"path\": \"/Users/haascp/Documents/GitHub/mocca/notebooks/cyanation_data/09072021_sample_26.txt\", \"conversion\": 0.3605816774734409, \"yield\": 0.0}, {\"2-chlorotoluene\": 0.044780046010779055, \"o-tolunitrile\": 0.0032517076394678658, \"tetralin\": 93689.07516222929, \"column\": \"2\", \"row\": \"12\", \"path\": \"/Users/haascp/Documents/GitHub/mocca/notebooks/cyanation_data/09072021_sample_27.txt\", \"conversion\": 0.25366589982034904, \"yield\": 5.0}, {\"2-chlorotoluene\": 0.0568229718151781, \"o-tolunitrile\": 0.0, \"tetralin\": 67262.18522514788, \"column\": \"3\", \"row\": \"1\", \"path\": \"/Users/haascp/Documents/GitHub/mocca/notebooks/cyanation_data/09072021_sample_28.txt\", \"conversion\": 0.05295046974703166, \"yield\": 0.0}, {\"2-chlorotoluene\": 0.059457521281991936, \"o-tolunitrile\": 0.0, \"tetralin\": 61798.34215242433, \"column\": \"3\", \"row\": \"2\", \"path\": \"/Users/haascp/Documents/GitHub/mocca/notebooks/cyanation_data/09072021_sample_29.txt\", \"conversion\": 0.00904131196680103, \"yield\": 0.0}, {\"2-chlorotoluene\": 0.06017340011695327, \"o-tolunitrile\": 0.0, \"tetralin\": 63307.90408794499, \"column\": \"3\", \"row\": \"3\", \"path\": \"/Users/haascp/Documents/GitHub/mocca/notebooks/cyanation_data/09072021_sample_30.txt\", \"conversion\": -0.002890001949221177, \"yield\": 0.0}, {\"2-chlorotoluene\": 0.0, \"o-tolunitrile\": 0.05581063052347172, \"tetralin\": 64888.73803195797, \"column\": \"3\", \"row\": \"4\", \"path\": \"/Users/haascp/Documents/GitHub/mocca/notebooks/cyanation_data/09072021_sample_31.txt\", \"conversion\": 1.0, \"yield\": 93.0}, {\"2-chlorotoluene\": 0.0, \"o-tolunitrile\": 0.046933900116589294, \"tetralin\": 60002.25523471804, \"column\": \"3\", \"row\": \"5\", \"path\": \"/Users/haascp/Documents/GitHub/mocca/notebooks/cyanation_data/09072021_sample_32.txt\", \"conversion\": 1.0, \"yield\": 78.0}, {\"2-chlorotoluene\": 0.06060920010437747, \"o-tolunitrile\": 0.0, \"tetralin\": 60043.34448063839, \"column\": \"3\", \"row\": \"6\", \"path\": \"/Users/haascp/Documents/GitHub/mocca/notebooks/cyanation_data/09072021_sample_33.txt\", \"conversion\": -0.01015333507295782, \"yield\": 0.0}, {\"2-chlorotoluene\": 0.03306891085810547, \"o-tolunitrile\": 0.028314181471970946, \"tetralin\": 62280.93640571474, \"column\": \"3\", \"row\": \"7\", \"path\": \"/Users/haascp/Documents/GitHub/mocca/notebooks/cyanation_data/09072021_sample_34.txt\", \"conversion\": 0.4488514856982422, \"yield\": 47.0}, {\"2-chlorotoluene\": 0.037768679162970095, \"o-tolunitrile\": 0.014388983130956403, \"tetralin\": 58189.19345206288, \"column\": \"3\", \"row\": \"8\", \"path\": \"/Users/haascp/Documents/GitHub/mocca/notebooks/cyanation_data/09072021_sample_35.txt\", \"conversion\": 0.3705220139504984, \"yield\": 24.0}, {\"2-chlorotoluene\": 0.04285331911702086, \"o-tolunitrile\": 0.01464065867243431, \"tetralin\": 69877.288479858, \"column\": \"3\", \"row\": \"9\", \"path\": \"/Users/haascp/Documents/GitHub/mocca/notebooks/cyanation_data/09072021_sample_36.txt\", \"conversion\": 0.285778014716319, \"yield\": 24.0}, {\"2-chlorotoluene\": 0.04226593245780946, \"o-tolunitrile\": 0.0021064065823052746, \"tetralin\": 61433.983844866176, \"column\": \"3\", \"row\": \"10\", \"path\": \"/Users/haascp/Documents/GitHub/mocca/notebooks/cyanation_data/09072021_sample_37.txt\", \"conversion\": 0.29556779236984226, \"yield\": 4.0}, {\"2-chlorotoluene\": 0.03900860755746998, \"o-tolunitrile\": 0.0, \"tetralin\": 66402.03678165631, \"column\": \"3\", \"row\": \"11\", \"path\": \"/Users/haascp/Documents/GitHub/mocca/notebooks/cyanation_data/09072021_sample_38.txt\", \"conversion\": 0.34985654070883365, \"yield\": 0.0}, {\"2-chlorotoluene\": 0.040867881575022934, \"o-tolunitrile\": 0.0020415938311035605, \"tetralin\": 128808.09890883724, \"column\": \"3\", \"row\": \"12\", \"path\": \"/Users/haascp/Documents/GitHub/mocca/notebooks/cyanation_data/09072021_sample_39.txt\", \"conversion\": 0.31886864041628443, \"yield\": 3.0}, {\"2-chlorotoluene\": 0.05969720794486888, \"o-tolunitrile\": 0.0, \"tetralin\": 71229.54729338415, \"column\": \"4\", \"row\": \"1\", \"path\": \"/Users/haascp/Documents/GitHub/mocca/notebooks/cyanation_data/09072021_sample_40.txt\", \"conversion\": 0.005046534252185301, \"yield\": 0.0}, {\"2-chlorotoluene\": 0.057177283572467395, \"o-tolunitrile\": 0.0, \"tetralin\": 70524.75978336367, \"column\": \"4\", \"row\": \"2\", \"path\": \"/Users/haascp/Documents/GitHub/mocca/notebooks/cyanation_data/09072021_sample_41.txt\", \"conversion\": 0.047045273792210046, \"yield\": 0.0}, {\"2-chlorotoluene\": 0.060501009122695494, \"o-tolunitrile\": 0.0, \"tetralin\": 72202.82983482802, \"column\": \"4\", \"row\": \"3\", \"path\": \"/Users/haascp/Documents/GitHub/mocca/notebooks/cyanation_data/09072021_sample_42.txt\", \"conversion\": -0.008350152044924938, \"yield\": 0.0}, {\"2-chlorotoluene\": 0.05828839985567422, \"o-tolunitrile\": 0.0015351425305203143, \"tetralin\": 75997.21022724597, \"column\": \"4\", \"row\": \"4\", \"path\": \"/Users/haascp/Documents/GitHub/mocca/notebooks/cyanation_data/09072021_sample_43.txt\", \"conversion\": 0.028526669072096354, \"yield\": 3.0}, {\"2-chlorotoluene\": 0.03342553908783388, \"o-tolunitrile\": 0.026562399809548946, \"tetralin\": 66336.32058947427, \"column\": \"4\", \"row\": \"5\", \"path\": \"/Users/haascp/Documents/GitHub/mocca/notebooks/cyanation_data/09072021_sample_44.txt\", \"conversion\": 0.44290768186943524, \"yield\": 44.0}, {\"2-chlorotoluene\": 0.06194303731082882, \"o-tolunitrile\": 0.0, \"tetralin\": 67915.15997527735, \"column\": \"4\", \"row\": \"6\", \"path\": \"/Users/haascp/Documents/GitHub/mocca/notebooks/cyanation_data/09072021_sample_45.txt\", \"conversion\": -0.03238395518048038, \"yield\": 0.0}, {\"2-chlorotoluene\": 0.011620584294623372, \"o-tolunitrile\": 0.051477669558291334, \"tetralin\": 69006.80965426902, \"column\": \"4\", \"row\": \"7\", \"path\": \"/Users/haascp/Documents/GitHub/mocca/notebooks/cyanation_data/09072021_sample_46.txt\", \"conversion\": 0.8063235950896105, \"yield\": 86.0}, {\"2-chlorotoluene\": 0.03390097561626533, \"o-tolunitrile\": 0.02326608537997353, \"tetralin\": 64584.5491520843, \"column\": \"4\", \"row\": \"8\", \"path\": \"/Users/haascp/Documents/GitHub/mocca/notebooks/cyanation_data/09072021_sample_47.txt\", \"conversion\": 0.43498373972891113, \"yield\": 39.0}, {\"2-chlorotoluene\": 0.04106928438405106, \"o-tolunitrile\": 0.00853620885964447, \"tetralin\": 103578.8362624402, \"column\": \"4\", \"row\": \"9\", \"path\": \"/Users/haascp/Documents/GitHub/mocca/notebooks/cyanation_data/09072021_sample_48.txt\", \"conversion\": 0.3155119269324823, \"yield\": 14.0}, {\"2-chlorotoluene\": 0.046282818905209334, \"o-tolunitrile\": 0.0031715577109772738, \"tetralin\": 62523.76049512899, \"column\": \"4\", \"row\": \"10\", \"path\": \"/Users/haascp/Documents/GitHub/mocca/notebooks/cyanation_data/09072021_sample_49.txt\", \"conversion\": 0.22861968491317772, \"yield\": 5.0}, {\"2-chlorotoluene\": 0.04147626517440398, \"o-tolunitrile\": 0.0012997769718266603, \"tetralin\": 84069.46481290428, \"column\": \"4\", \"row\": \"11\", \"path\": \"/Users/haascp/Documents/GitHub/mocca/notebooks/cyanation_data/09072021_sample_50.txt\", \"conversion\": 0.3087289137599336, \"yield\": 2.0}, {\"2-chlorotoluene\": 0.03313276083069878, \"o-tolunitrile\": 0.0044859058728998775, \"tetralin\": 193679.07305759165, \"column\": \"4\", \"row\": \"12\", \"path\": \"/Users/haascp/Documents/GitHub/mocca/notebooks/cyanation_data/09072021_sample_51.txt\", \"conversion\": 0.4477873194883537, \"yield\": 7.0}, {\"2-chlorotoluene\": 0.05771236826299533, \"o-tolunitrile\": 0.0, \"tetralin\": 63037.69797339005, \"column\": \"5\", \"row\": \"1\", \"path\": \"/Users/haascp/Documents/GitHub/mocca/notebooks/cyanation_data/09072021_sample_52.txt\", \"conversion\": 0.03812719561674452, \"yield\": 0.0}, {\"2-chlorotoluene\": 0.05907967256907962, \"o-tolunitrile\": 0.0, \"tetralin\": 60392.55767577107, \"column\": \"5\", \"row\": \"2\", \"path\": \"/Users/haascp/Documents/GitHub/mocca/notebooks/cyanation_data/09072021_sample_53.txt\", \"conversion\": 0.015338790515339573, \"yield\": 0.0}, {\"2-chlorotoluene\": 0.06194197189955342, \"o-tolunitrile\": 0.0, \"tetralin\": 58868.04681451417, \"column\": \"5\", \"row\": \"3\", \"path\": \"/Users/haascp/Documents/GitHub/mocca/notebooks/cyanation_data/09072021_sample_54.txt\", \"conversion\": -0.032366198325890425, \"yield\": 0.0}, {\"2-chlorotoluene\": 0.06001875612612389, \"o-tolunitrile\": 0.0, \"tetralin\": 66364.17471241261, \"column\": \"5\", \"row\": \"4\", \"path\": \"/Users/haascp/Documents/GitHub/mocca/notebooks/cyanation_data/09072021_sample_55.txt\", \"conversion\": -0.0003126021020648471, \"yield\": 0.0}, {\"2-chlorotoluene\": 0.057760036234694896, \"o-tolunitrile\": 0.0, \"tetralin\": 61673.563844784665, \"column\": \"5\", \"row\": \"5\", \"path\": \"/Users/haascp/Documents/GitHub/mocca/notebooks/cyanation_data/09072021_sample_56.txt\", \"conversion\": 0.0373327294217517, \"yield\": 0.0}, {\"2-chlorotoluene\": 0.06141920206931001, \"o-tolunitrile\": 0.0, \"tetralin\": 62692.86594643355, \"column\": \"5\", \"row\": \"6\", \"path\": \"/Users/haascp/Documents/GitHub/mocca/notebooks/cyanation_data/09072021_sample_57.txt\", \"conversion\": -0.02365336782183351, \"yield\": 0.0}, {\"2-chlorotoluene\": 0.0, \"o-tolunitrile\": 0.05655369049275976, \"tetralin\": 66776.50922493229, \"column\": \"5\", \"row\": \"7\", \"path\": \"/Users/haascp/Documents/GitHub/mocca/notebooks/cyanation_data/09072021_sample_58.txt\", \"conversion\": 1.0, \"yield\": 94.0}, {\"2-chlorotoluene\": 0.03160418442932224, \"o-tolunitrile\": 0.026762811318766472, \"tetralin\": 56944.05279421178, \"column\": \"5\", \"row\": \"8\", \"path\": \"/Users/haascp/Documents/GitHub/mocca/notebooks/cyanation_data/09072021_sample_59.txt\", \"conversion\": 0.4732635928446293, \"yield\": 45.0}, {\"2-chlorotoluene\": 0.04980183562484219, \"o-tolunitrile\": 0.0018348538708663354, \"tetralin\": 78425.99902769289, \"column\": \"5\", \"row\": \"9\", \"path\": \"/Users/haascp/Documents/GitHub/mocca/notebooks/cyanation_data/09072021_sample_60.txt\", \"conversion\": 0.16996940625263018, \"yield\": 3.0}, {\"2-chlorotoluene\": 0.04087093374034899, \"o-tolunitrile\": 0.010105290550502959, \"tetralin\": 62425.897554225514, \"column\": \"5\", \"row\": \"10\", \"path\": \"/Users/haascp/Documents/GitHub/mocca/notebooks/cyanation_data/09072021_sample_61.txt\", \"conversion\": 0.3188177709941835, \"yield\": 17.0}, {\"2-chlorotoluene\": 0.03557689029979021, \"o-tolunitrile\": 0.00331544234565339, \"tetralin\": 141836.5061188852, \"column\": \"5\", \"row\": \"11\", \"path\": \"/Users/haascp/Documents/GitHub/mocca/notebooks/cyanation_data/09072021_sample_62.txt\", \"conversion\": 0.40705182833682974, \"yield\": 6.0}, {\"2-chlorotoluene\": 0.038164772528020356, \"o-tolunitrile\": 0.011157247641016972, \"tetralin\": 93776.162555156, \"column\": \"5\", \"row\": \"12\", \"path\": \"/Users/haascp/Documents/GitHub/mocca/notebooks/cyanation_data/09072021_sample_63.txt\", \"conversion\": 0.3639204578663274, \"yield\": 19.0}, {\"2-chlorotoluene\": 0.048905885928434076, \"o-tolunitrile\": 0.010807273794447193, \"tetralin\": 59895.91016993551, \"column\": \"6\", \"row\": \"1\", \"path\": \"/Users/haascp/Documents/GitHub/mocca/notebooks/cyanation_data/09072021_sample_64.txt\", \"conversion\": 0.18490190119276537, \"yield\": 18.0}, {\"2-chlorotoluene\": 0.05456034970720985, \"o-tolunitrile\": 0.004105908567975792, \"tetralin\": 58754.183395782726, \"column\": \"6\", \"row\": \"2\", \"path\": \"/Users/haascp/Documents/GitHub/mocca/notebooks/cyanation_data/09072021_sample_65.txt\", \"conversion\": 0.09066083821316918, \"yield\": 7.0}, {\"2-chlorotoluene\": 0.05755377905150643, \"o-tolunitrile\": 0.0, \"tetralin\": 74145.82785340505, \"column\": \"6\", \"row\": \"3\", \"path\": \"/Users/haascp/Documents/GitHub/mocca/notebooks/cyanation_data/09072021_sample_66.txt\", \"conversion\": 0.040770349141559456, \"yield\": 0.0}, {\"2-chlorotoluene\": 0.030098579051474214, \"o-tolunitrile\": 0.02817582670696703, \"tetralin\": 61031.060024309125, \"column\": \"6\", \"row\": \"4\", \"path\": \"/Users/haascp/Documents/GitHub/mocca/notebooks/cyanation_data/09072021_sample_67.txt\", \"conversion\": 0.49835701580876307, \"yield\": 47.0}, {\"2-chlorotoluene\": 0.03938673124770249, \"o-tolunitrile\": 0.01617240174198006, \"tetralin\": 58166.01452120238, \"column\": \"6\", \"row\": \"5\", \"path\": \"/Users/haascp/Documents/GitHub/mocca/notebooks/cyanation_data/09072021_sample_68.txt\", \"conversion\": 0.34355447920495846, \"yield\": 27.0}, {\"2-chlorotoluene\": 0.0, \"o-tolunitrile\": 0.04653396992864074, \"tetralin\": 60863.921940105334, \"column\": \"6\", \"row\": \"6\", \"path\": \"/Users/haascp/Documents/GitHub/mocca/notebooks/cyanation_data/09072021_sample_69.txt\", \"conversion\": 1.0, \"yield\": 78.0}, {\"2-chlorotoluene\": 0.006587891256510079, \"o-tolunitrile\": 0.05461972380860959, \"tetralin\": 75875.03433268204, \"column\": \"6\", \"row\": \"7\", \"path\": \"/Users/haascp/Documents/GitHub/mocca/notebooks/cyanation_data/09072021_sample_70.txt\", \"conversion\": 0.8902018123914988, \"yield\": 91.0}, {\"2-chlorotoluene\": 0.01626971844933368, \"o-tolunitrile\": 0.038206831873285156, \"tetralin\": 109558.83502000642, \"column\": \"6\", \"row\": \"8\", \"path\": \"/Users/haascp/Documents/GitHub/mocca/notebooks/cyanation_data/09072021_sample_71.txt\", \"conversion\": 0.7288380258444386, \"yield\": 64.0}, {\"2-chlorotoluene\": 0.053086123854058434, \"o-tolunitrile\": 0.0028699945915579665, \"tetralin\": 71724.18914292887, \"column\": \"6\", \"row\": \"9\", \"path\": \"/Users/haascp/Documents/GitHub/mocca/notebooks/cyanation_data/09072021_sample_72.txt\", \"conversion\": 0.11523126909902606, \"yield\": 5.0}, {\"2-chlorotoluene\": 0.04155451553815372, \"o-tolunitrile\": 0.004775422082679583, \"tetralin\": 94513.55865652744, \"column\": \"6\", \"row\": \"10\", \"path\": \"/Users/haascp/Documents/GitHub/mocca/notebooks/cyanation_data/09072021_sample_73.txt\", \"conversion\": 0.3074247410307713, \"yield\": 8.0}, {\"2-chlorotoluene\": 0.02689386306429021, \"o-tolunitrile\": 0.005280434895920523, \"tetralin\": 211134.34003611637, \"column\": \"6\", \"row\": \"11\", \"path\": \"/Users/haascp/Documents/GitHub/mocca/notebooks/cyanation_data/09072021_sample_74.txt\", \"conversion\": 0.5517689489284965, \"yield\": 9.0}, {\"2-chlorotoluene\": 0.041727952849745543, \"o-tolunitrile\": 0.00628035050104028, \"tetralin\": 61444.85201451695, \"column\": \"6\", \"row\": \"12\", \"path\": \"/Users/haascp/Documents/GitHub/mocca/notebooks/cyanation_data/09072021_sample_75.txt\", \"conversion\": 0.30453411917090756, \"yield\": 10.0}, {\"2-chlorotoluene\": 0.05799040612524876, \"o-tolunitrile\": 0.0, \"tetralin\": 62260.56844430021, \"column\": \"7\", \"row\": \"1\", \"path\": \"/Users/haascp/Documents/GitHub/mocca/notebooks/cyanation_data/09072021_sample_76.txt\", \"conversion\": 0.033493231245854016, \"yield\": 0.0}, {\"2-chlorotoluene\": 0.05724846643381753, \"o-tolunitrile\": 0.0, \"tetralin\": 86100.59284999823, \"column\": \"7\", \"row\": \"2\", \"path\": \"/Users/haascp/Documents/GitHub/mocca/notebooks/cyanation_data/09072021_sample_77.txt\", \"conversion\": 0.045858892769707824, \"yield\": 0.0}, {\"2-chlorotoluene\": 0.056099168498315, \"o-tolunitrile\": 0.0, \"tetralin\": 75091.92182358376, \"column\": \"7\", \"row\": \"3\", \"path\": \"/Users/haascp/Documents/GitHub/mocca/notebooks/cyanation_data/09072021_sample_78.txt\", \"conversion\": 0.06501385836141667, \"yield\": 0.0}, {\"2-chlorotoluene\": 0.05856968553188306, \"o-tolunitrile\": 0.0, \"tetralin\": 60722.437957208305, \"column\": \"7\", \"row\": \"4\", \"path\": \"/Users/haascp/Documents/GitHub/mocca/notebooks/cyanation_data/09072021_sample_79.txt\", \"conversion\": 0.023838574468615602, \"yield\": 0.0}, {\"2-chlorotoluene\": 0.062071456591975244, \"o-tolunitrile\": 0.0, \"tetralin\": 56150.90745149041, \"column\": \"7\", \"row\": \"5\", \"path\": \"/Users/haascp/Documents/GitHub/mocca/notebooks/cyanation_data/09072021_sample_80.txt\", \"conversion\": -0.03452427653292077, \"yield\": 0.0}, {\"2-chlorotoluene\": 0.06184511479320221, \"o-tolunitrile\": 0.0, \"tetralin\": 63086.115812916556, \"column\": \"7\", \"row\": \"6\", \"path\": \"/Users/haascp/Documents/GitHub/mocca/notebooks/cyanation_data/09072021_sample_81.txt\", \"conversion\": -0.030751913220036904, \"yield\": 0.0}, {\"2-chlorotoluene\": 0.04873600431585129, \"o-tolunitrile\": 0.0, \"tetralin\": 137799.63157884663, \"column\": \"7\", \"row\": \"7\", \"path\": \"/Users/haascp/Documents/GitHub/mocca/notebooks/cyanation_data/09072021_sample_82.txt\", \"conversion\": 0.18773326140247848, \"yield\": 0.0}, {\"2-chlorotoluene\": 0.05930706836215251, \"o-tolunitrile\": 0.0, \"tetralin\": 68115.13832473697, \"column\": \"7\", \"row\": \"8\", \"path\": \"/Users/haascp/Documents/GitHub/mocca/notebooks/cyanation_data/09072021_sample_83.txt\", \"conversion\": 0.011548860630791516, \"yield\": 0.0}, {\"2-chlorotoluene\": 0.05904412609506307, \"o-tolunitrile\": 0.0, \"tetralin\": 77373.68472214128, \"column\": \"7\", \"row\": \"9\", \"path\": \"/Users/haascp/Documents/GitHub/mocca/notebooks/cyanation_data/09072021_sample_84.txt\", \"conversion\": 0.015931231748948782, \"yield\": 0.0}, {\"2-chlorotoluene\": 0.04445413663618695, \"o-tolunitrile\": 0.0, \"tetralin\": 162296.59445625957, \"column\": \"7\", \"row\": \"10\", \"path\": \"/Users/haascp/Documents/GitHub/mocca/notebooks/cyanation_data/09072021_sample_85.txt\", \"conversion\": 0.2590977227302175, \"yield\": 0.0}, {\"2-chlorotoluene\": 0.05263449004582244, \"o-tolunitrile\": 0.0, \"tetralin\": 64807.0981135178, \"column\": \"7\", \"row\": \"11\", \"path\": \"/Users/haascp/Documents/GitHub/mocca/notebooks/cyanation_data/09072021_sample_86.txt\", \"conversion\": 0.1227584992362926, \"yield\": 0.0}, {\"2-chlorotoluene\": 0.05838624161415069, \"o-tolunitrile\": 0.0, \"tetralin\": 75707.96040309632, \"column\": \"7\", \"row\": \"12\", \"path\": \"/Users/haascp/Documents/GitHub/mocca/notebooks/cyanation_data/09072021_sample_87.txt\", \"conversion\": 0.026895973097488514, \"yield\": 0.0}]}}, {\"mode\": \"vega-lite\"});\n",
       "</script>"
      ],
      "text/plain": [
       "alt.LayerChart(...)"
      ]
     },
     "metadata": {},
     "output_type": "display_data"
    }
   ],
   "source": [
    "results_rounded = results_df\n",
    "results_rounded['yield'] = results_rounded['yield'] * 100\n",
    "results_rounded = results_rounded.round({'yield': 0})\n",
    "#display(results_rounded['yield'])\n",
    "\n",
    "heatmap = alt.Chart(results_rounded, title = 'Yield').mark_rect().encode(\n",
    "            x=alt.X('row', sort=row_order),\n",
    "            y=alt.Y('column'),\n",
    "            color=alt.Color('yield', title=\"Yield\")\n",
    "            )\n",
    "text = alt.Chart(results_rounded, title = 'Yield').mark_text().encode(\n",
    "            x=alt.X('row', sort=row_order),\n",
    "            y=alt.Y('column'),\n",
    "            text='yield'\n",
    "            )\n",
    "\n",
    "display(heatmap + text)"
   ]
  },
  {
   "cell_type": "code",
   "execution_count": null,
   "id": "337a5023-f756-4047-8bc7-63489f69792c",
   "metadata": {},
   "outputs": [],
   "source": []
  }
 ],
 "metadata": {
  "kernelspec": {
   "display_name": "mocca-dev",
   "language": "python",
   "name": "mocca-dev"
  },
  "language_info": {
   "codemirror_mode": {
    "name": "ipython",
    "version": 3
   },
   "file_extension": ".py",
   "mimetype": "text/x-python",
   "name": "python",
   "nbconvert_exporter": "python",
   "pygments_lexer": "ipython3",
   "version": "3.9.7"
  }
 },
 "nbformat": 4,
 "nbformat_minor": 5
}
